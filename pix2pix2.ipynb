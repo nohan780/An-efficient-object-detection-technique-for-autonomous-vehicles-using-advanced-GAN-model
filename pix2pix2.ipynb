{
 "cells": [
  {
   "cell_type": "markdown",
   "id": "dressed-irish",
   "metadata": {},
   "source": [
    "# Image to Image Translation using Pix2Pix"
   ]
  },
  {
   "cell_type": "code",
   "execution_count": 1,
   "id": "invisible-contrary",
   "metadata": {},
   "outputs": [],
   "source": [
    "import tensorflow as tf\n",
    "import os\n",
    "import numpy as np\n",
    "import matplotlib.pyplot as plt\n",
    "import time\n",
    "from tqdm import tqdm\n",
    "import cv2\n",
    "from keras.models import Model, Sequential\n",
    "from keras.layers import Dense, Conv2D, Flatten, BatchNormalization, LeakyReLU\n",
    "from keras.layers import Conv2DTranspose, Dropout, ReLU, Input, Concatenate, ZeroPadding2D\n",
    "from keras.optimizers import Adam\n",
    "from keras.utils import plot_model"
   ]
  },
  {
   "cell_type": "code",
   "execution_count": 2,
   "id": "4037f180",
   "metadata": {},
   "outputs": [],
   "source": [
    "import Automold as am\n",
    "import Helpers as hp"
   ]
  },
  {
   "cell_type": "code",
   "execution_count": 3,
   "id": "precious-kelly",
   "metadata": {},
   "outputs": [],
   "source": [
    "devices = tf.config.experimental.list_physical_devices(\"GPU\")\n",
    "tf.config.experimental.set_memory_growth(devices[0] ,enable=True)"
   ]
  },
  {
   "cell_type": "code",
   "execution_count": 4,
   "id": "laughing-korean",
   "metadata": {},
   "outputs": [],
   "source": [
    "BATCH_SIZE = 1\n",
    "IMAGE_SIZE = 256"
   ]
  },
  {
   "cell_type": "code",
   "execution_count": 5,
   "id": "1674e2a5",
   "metadata": {},
   "outputs": [
    {
     "name": "stderr",
     "output_type": "stream",
     "text": [
      "100%|██████████| 1000/1000 [00:04<00:00, 230.56it/s]"
     ]
    },
    {
     "name": "stdout",
     "output_type": "stream",
     "text": [
      "Loaded 1000 images.\n"
     ]
    },
    {
     "name": "stderr",
     "output_type": "stream",
     "text": [
      "\n"
     ]
    }
   ],
   "source": [
    "data_path = r\"images\\10k\\train\"  # Replace with your dataset path\n",
    "images = []\n",
    "\n",
    "for img_name in tqdm(os.listdir(data_path)):\n",
    "    img_path = os.path.join(data_path, img_name)\n",
    "    img = cv2.imread(img_path)\n",
    "    if img is not None:\n",
    "        images.append(cv2.cvtColor(img, cv2.COLOR_BGR2RGB))\n",
    "\n",
    "print(f\"Loaded {len(images)} images.\")"
   ]
  },
  {
   "cell_type": "code",
   "execution_count": 6,
   "id": "38f6d699",
   "metadata": {},
   "outputs": [
    {
     "name": "stderr",
     "output_type": "stream",
     "text": [
      "100%|██████████| 500/500 [00:02<00:00, 246.84it/s]"
     ]
    },
    {
     "name": "stdout",
     "output_type": "stream",
     "text": [
      "Loaded 500 images.\n"
     ]
    },
    {
     "name": "stderr",
     "output_type": "stream",
     "text": [
      "\n"
     ]
    }
   ],
   "source": [
    "test_data_path = r\"images\\10k\\test\"  # Replace with your dataset path\n",
    "test_images = []\n",
    "\n",
    "for img_name in tqdm(os.listdir(test_data_path)):\n",
    "    img_path = os.path.join(test_data_path, img_name)\n",
    "    img = cv2.imread(img_path)\n",
    "    if img is not None:\n",
    "        test_images.append(cv2.cvtColor(img, cv2.COLOR_BGR2RGB))\n",
    "\n",
    "print(f\"Loaded {len(test_images)} images.\")"
   ]
  },
  {
   "cell_type": "code",
   "execution_count": 7,
   "id": "6190e1f8",
   "metadata": {},
   "outputs": [
    {
     "name": "stderr",
     "output_type": "stream",
     "text": [
      "100%|██████████| 1000/1000 [00:32<00:00, 30.73it/s]\n"
     ]
    },
    {
     "name": "stdout",
     "output_type": "stream",
     "text": [
      "Augmented dataset size: 2000\n"
     ]
    }
   ],
   "source": [
    "# Cell 4: Augment Images (Rain, Snow, Brightness)\n",
    "augmented_images = []\n",
    "labels = []\n",
    "\n",
    "for img in tqdm(images):\n",
    "    augmented_images.append(am.add_rain(img))\n",
    "    labels.append(img)  # Clean image for comparison\n",
    "    augmented_images.append(am.add_snow(img))\n",
    "    labels.append(img)\n",
    "\n",
    "\n",
    "augmented_images = np.array([cv2.resize(img, (256, 256)) for img in augmented_images])\n",
    "labels = np.array([cv2.resize(img, (256, 256)) for img in labels])\n",
    "\n",
    "\n",
    "print(f\"Augmented dataset size: {len(augmented_images)}\")\n"
   ]
  },
  {
   "cell_type": "code",
   "execution_count": 8,
   "id": "e8e25fa1",
   "metadata": {},
   "outputs": [
    {
     "name": "stderr",
     "output_type": "stream",
     "text": [
      "100%|██████████| 500/500 [00:16<00:00, 31.00it/s]\n"
     ]
    },
    {
     "name": "stdout",
     "output_type": "stream",
     "text": [
      "Augmented dataset size: 1000\n"
     ]
    }
   ],
   "source": [
    "# Cell 4: Augment Images (Rain, Snow, Brightness)\n",
    "test_augmented_images = []\n",
    "test_labels = []\n",
    "\n",
    "for img in tqdm(test_images):\n",
    "    test_augmented_images.append(am.add_rain(img))\n",
    "    test_labels.append(img)  # Clean image for comparison\n",
    "    test_augmented_images.append(am.add_snow(img))\n",
    "    test_labels.append(img)\n",
    "\n",
    "\n",
    "test_augmented_images = np.array([cv2.resize(img, (256, 256)) for img in test_augmented_images])\n",
    "test_labels = np.array([cv2.resize(img, (256, 256)) for img in test_labels])\n",
    "\n",
    "\n",
    "print(f\"Augmented dataset size: {len(test_augmented_images)}\")\n"
   ]
  },
  {
   "cell_type": "code",
   "execution_count": 9,
   "id": "50ee364b",
   "metadata": {},
   "outputs": [
    {
     "name": "stdout",
     "output_type": "stream",
     "text": [
      "Input batch shape: (1, 256, 256, 3)\n",
      "Label batch shape: (1, 256, 256, 3)\n"
     ]
    }
   ],
   "source": [
    "import tensorflow as tf\n",
    "import numpy as np\n",
    "\n",
    "# Assuming augmented_images and labels are NumPy arrays of shape (N, 256, 256, 3)\n",
    "# where N is the number of samples\n",
    "\n",
    "# Normalize images to range [0, 1] (if not already normalized)\n",
    "augmented_images = augmented_images.astype(np.float32) / 255.0\n",
    "labels = labels.astype(np.float32) / 255.0\n",
    "\n",
    "# Create a TensorFlow Dataset from the augmented images and labels\n",
    "train_dataset = tf.data.Dataset.from_tensor_slices((augmented_images, labels))\n",
    "\n",
    "# Define a mapping function to preprocess data if needed\n",
    "\n",
    "def preprocess_images(input_image, label_image):\n",
    "    # Resize to (256, 256)\n",
    "    # input_image = tf.image.resize(input_image, (256, 256))\n",
    "    # label_image = tf.image.resize(label_image, (256, 256))\n",
    "    return input_image, label_image\n",
    "\n",
    "\n",
    "\n",
    "# Apply the preprocessing function to the dataset\n",
    "train_dataset = train_dataset.map(preprocess_images)\n",
    "\n",
    "# Shuffle and batch the dataset\n",
    "BATCH_SIZE = 1  # Adjust batch size as needed\n",
    "train_dataset = train_dataset.shuffle(buffer_size=100).batch(BATCH_SIZE)\n",
    "\n",
    "# Inspect the dataset\n",
    "for batch in train_dataset.take(1):\n",
    "    print(\"Input batch shape:\", batch[0].shape)\n",
    "    print(\"Label batch shape:\", batch[1].shape)\n",
    "\n"
   ]
  },
  {
   "cell_type": "code",
   "execution_count": 10,
   "id": "9d67feea",
   "metadata": {},
   "outputs": [
    {
     "name": "stdout",
     "output_type": "stream",
     "text": [
      "Input batch shape: (1, 256, 256, 3)\n",
      "Label batch shape: (1, 256, 256, 3)\n"
     ]
    }
   ],
   "source": [
    "import tensorflow as tf\n",
    "import numpy as np\n",
    "\n",
    "# Assuming augmented_images and labels are NumPy arrays of shape (N, 256, 256, 3)\n",
    "# where N is the number of samples\n",
    "\n",
    "# Normalize images to range [0, 1] (if not already normalized)\n",
    "test_augmented_images = test_augmented_images.astype(np.float32) / 255.0\n",
    "test_labels = test_labels.astype(np.float32) / 255.0\n",
    "\n",
    "# Create a TensorFlow Dataset from the augmented images and labels\n",
    "test_dataset = tf.data.Dataset.from_tensor_slices((test_augmented_images, test_labels))\n",
    "\n",
    "# Define a mapping function to preprocess data if needed\n",
    "\n",
    "def preprocess_images(input_image, label_image):\n",
    "    # Resize to (256, 256)\n",
    "    # input_image = tf.image.resize(input_image, (256, 256))\n",
    "    # label_image = tf.image.resize(label_image, (256, 256))\n",
    "    return input_image, label_image\n",
    "\n",
    "\n",
    "\n",
    "# Apply the preprocessing function to the dataset\n",
    "test_dataset = test_dataset.map(preprocess_images)\n",
    "\n",
    "# Shuffle and batch the dataset\n",
    "BATCH_SIZE = 1  # Adjust batch size as needed\n",
    "test_dataset = test_dataset.shuffle(buffer_size=100).batch(BATCH_SIZE)\n",
    "\n",
    "# Inspect the dataset\n",
    "for batch in test_dataset.take(1):\n",
    "    print(\"Input batch shape:\", batch[0].shape)\n",
    "    print(\"Label batch shape:\", batch[1].shape)\n",
    "\n"
   ]
  },
  {
   "cell_type": "code",
   "execution_count": 11,
   "id": "97ccd2e9",
   "metadata": {},
   "outputs": [
    {
     "data": {
      "text/plain": [
       "<BatchDataset element_spec=(TensorSpec(shape=(None, 256, 256, 3), dtype=tf.float32, name=None), TensorSpec(shape=(None, 256, 256, 3), dtype=tf.float32, name=None))>"
      ]
     },
     "execution_count": 11,
     "metadata": {},
     "output_type": "execute_result"
    }
   ],
   "source": [
    "train_dataset"
   ]
  },
  {
   "cell_type": "code",
   "execution_count": 12,
   "id": "bf1f6dde",
   "metadata": {},
   "outputs": [
    {
     "data": {
      "text/plain": [
       "<BatchDataset element_spec=(TensorSpec(shape=(None, 256, 256, 3), dtype=tf.float32, name=None), TensorSpec(shape=(None, 256, 256, 3), dtype=tf.float32, name=None))>"
      ]
     },
     "execution_count": 12,
     "metadata": {},
     "output_type": "execute_result"
    }
   ],
   "source": [
    "test_dataset"
   ]
  },
  {
   "cell_type": "code",
   "execution_count": 13,
   "id": "romantic-portal",
   "metadata": {},
   "outputs": [],
   "source": [
    "# downsample block\n",
    "def downsample(filters, size, batchnorm = True):\n",
    "    init = tf.random_normal_initializer(0.,0.02)\n",
    "    result = Sequential()\n",
    "    result.add(Conv2D(filters, size, strides = 2, padding = \"same\", kernel_initializer = init, use_bias = False))\n",
    "    if batchnorm == True:\n",
    "        result.add(BatchNormalization())\n",
    "        \n",
    "    result.add(LeakyReLU())\n",
    "    return result\n",
    "down_model = downsample(3,4)\n",
    "# down_result = down_model(tf.expand_dims(x, axis = 0))\n",
    "# print(down_result.shape)"
   ]
  },
  {
   "cell_type": "code",
   "execution_count": 14,
   "id": "arctic-masters",
   "metadata": {},
   "outputs": [],
   "source": [
    "# upsample block\n",
    "def upsample(filters, size, dropout = False):\n",
    "    init = tf.random_normal_initializer(0, 0.02)\n",
    "    result = Sequential()\n",
    "    result.add(Conv2DTranspose(filters, size, strides = 2, padding = \"same\", kernel_initializer = init, use_bias = False))\n",
    "    result.add(BatchNormalization())\n",
    "    if dropout == True:\n",
    "        result.add(Dropout(0.5))\n",
    "    result.add(ReLU())\n",
    "    return result\n",
    "up_model = upsample(3,4)\n",
    "# up_result = up_model(down_result)\n",
    "# print(up_result.shape)"
   ]
  },
  {
   "cell_type": "code",
   "execution_count": 15,
   "id": "lucky-freight",
   "metadata": {},
   "outputs": [],
   "source": [
    "def generator():\n",
    "    inputs = Input(shape = [IMAGE_SIZE, IMAGE_SIZE, 3])\n",
    "    down_stack = [\n",
    "        downsample(64, 4, batchnorm=False),\n",
    "        downsample(128, 4),\n",
    "        downsample(256, 4),\n",
    "        downsample(512, 4),\n",
    "        downsample(512, 4),\n",
    "        downsample(512, 4),\n",
    "        downsample(512, 4),\n",
    "        downsample(512, 4)\n",
    "    ]\n",
    "    \n",
    "    \n",
    "    up_stack = [\n",
    "        upsample(512, 4, dropout=True),\n",
    "        upsample(512, 4, dropout=True),\n",
    "        upsample(512, 4),\n",
    "        upsample(512, 4),\n",
    "        upsample(256, 4),\n",
    "        upsample(128, 4),\n",
    "        upsample(64, 4),\n",
    "    ]\n",
    "    init = tf.random_normal_initializer(0., 0.02)\n",
    "    last = Conv2DTranspose(3, 4, strides = 2, padding = \"same\", kernel_initializer = init, activation =\"tanh\")\n",
    "    x = inputs\n",
    "    skips = []\n",
    "    for down in down_stack:\n",
    "        x = down(x)\n",
    "        skips.append(x)\n",
    "    skips = reversed(skips[:-1])\n",
    "    \n",
    "    for up, skip in zip(up_stack, skips):\n",
    "        x = up(x)\n",
    "        x = Concatenate()([x, skip])\n",
    "    \n",
    "    x = last(x)\n",
    "    return Model(inputs = inputs, outputs = x)"
   ]
  },
  {
   "cell_type": "code",
   "execution_count": 16,
   "id": "regular-coupon",
   "metadata": {},
   "outputs": [
    {
     "name": "stdout",
     "output_type": "stream",
     "text": [
      "Model: \"model\"\n",
      "__________________________________________________________________________________________________\n",
      " Layer (type)                   Output Shape         Param #     Connected to                     \n",
      "==================================================================================================\n",
      " input_1 (InputLayer)           [(None, 256, 256, 3  0           []                               \n",
      "                                )]                                                                \n",
      "                                                                                                  \n",
      " sequential_2 (Sequential)      (None, 128, 128, 64  3072        ['input_1[0][0]']                \n",
      "                                )                                                                 \n",
      "                                                                                                  \n",
      " sequential_3 (Sequential)      (None, 64, 64, 128)  131584      ['sequential_2[0][0]']           \n",
      "                                                                                                  \n",
      " sequential_4 (Sequential)      (None, 32, 32, 256)  525312      ['sequential_3[0][0]']           \n",
      "                                                                                                  \n",
      " sequential_5 (Sequential)      (None, 16, 16, 512)  2099200     ['sequential_4[0][0]']           \n",
      "                                                                                                  \n",
      " sequential_6 (Sequential)      (None, 8, 8, 512)    4196352     ['sequential_5[0][0]']           \n",
      "                                                                                                  \n",
      " sequential_7 (Sequential)      (None, 4, 4, 512)    4196352     ['sequential_6[0][0]']           \n",
      "                                                                                                  \n",
      " sequential_8 (Sequential)      (None, 2, 2, 512)    4196352     ['sequential_7[0][0]']           \n",
      "                                                                                                  \n",
      " sequential_9 (Sequential)      (None, 1, 1, 512)    4196352     ['sequential_8[0][0]']           \n",
      "                                                                                                  \n",
      " sequential_10 (Sequential)     (None, 2, 2, 512)    4196352     ['sequential_9[0][0]']           \n",
      "                                                                                                  \n",
      " concatenate (Concatenate)      (None, 2, 2, 1024)   0           ['sequential_10[0][0]',          \n",
      "                                                                  'sequential_8[0][0]']           \n",
      "                                                                                                  \n",
      " sequential_11 (Sequential)     (None, 4, 4, 512)    8390656     ['concatenate[0][0]']            \n",
      "                                                                                                  \n",
      " concatenate_1 (Concatenate)    (None, 4, 4, 1024)   0           ['sequential_11[0][0]',          \n",
      "                                                                  'sequential_7[0][0]']           \n",
      "                                                                                                  \n",
      " sequential_12 (Sequential)     (None, 8, 8, 512)    8390656     ['concatenate_1[0][0]']          \n",
      "                                                                                                  \n",
      " concatenate_2 (Concatenate)    (None, 8, 8, 1024)   0           ['sequential_12[0][0]',          \n",
      "                                                                  'sequential_6[0][0]']           \n",
      "                                                                                                  \n",
      " sequential_13 (Sequential)     (None, 16, 16, 512)  8390656     ['concatenate_2[0][0]']          \n",
      "                                                                                                  \n",
      " concatenate_3 (Concatenate)    (None, 16, 16, 1024  0           ['sequential_13[0][0]',          \n",
      "                                )                                 'sequential_5[0][0]']           \n",
      "                                                                                                  \n",
      " sequential_14 (Sequential)     (None, 32, 32, 256)  4195328     ['concatenate_3[0][0]']          \n",
      "                                                                                                  \n",
      " concatenate_4 (Concatenate)    (None, 32, 32, 512)  0           ['sequential_14[0][0]',          \n",
      "                                                                  'sequential_4[0][0]']           \n",
      "                                                                                                  \n",
      " sequential_15 (Sequential)     (None, 64, 64, 128)  1049088     ['concatenate_4[0][0]']          \n",
      "                                                                                                  \n",
      " concatenate_5 (Concatenate)    (None, 64, 64, 256)  0           ['sequential_15[0][0]',          \n",
      "                                                                  'sequential_3[0][0]']           \n",
      "                                                                                                  \n",
      " sequential_16 (Sequential)     (None, 128, 128, 64  262400      ['concatenate_5[0][0]']          \n",
      "                                )                                                                 \n",
      "                                                                                                  \n",
      " concatenate_6 (Concatenate)    (None, 128, 128, 12  0           ['sequential_16[0][0]',          \n",
      "                                8)                                'sequential_2[0][0]']           \n",
      "                                                                                                  \n",
      " conv2d_transpose_8 (Conv2DTran  (None, 256, 256, 3)  6147       ['concatenate_6[0][0]']          \n",
      " spose)                                                                                           \n",
      "                                                                                                  \n",
      "==================================================================================================\n",
      "Total params: 54,425,859\n",
      "Trainable params: 54,414,979\n",
      "Non-trainable params: 10,880\n",
      "__________________________________________________________________________________________________\n"
     ]
    }
   ],
   "source": [
    "gen = generator()\n",
    "gen.summary()"
   ]
  },
  {
   "cell_type": "code",
   "execution_count": 17,
   "id": "palestinian-momentum",
   "metadata": {},
   "outputs": [],
   "source": [
    "# plot_model(gen, show_shapes=True, dpi = 64)"
   ]
  },
  {
   "cell_type": "code",
   "execution_count": 18,
   "id": "important-northwest",
   "metadata": {},
   "outputs": [],
   "source": [
    "LAMBDA = 100"
   ]
  },
  {
   "cell_type": "code",
   "execution_count": 19,
   "id": "convertible-server",
   "metadata": {},
   "outputs": [],
   "source": [
    "from keras.losses import BinaryCrossentropy\n",
    "loss_function = BinaryCrossentropy(from_logits=True)"
   ]
  },
  {
   "cell_type": "code",
   "execution_count": 20,
   "id": "ancient-subcommittee",
   "metadata": {},
   "outputs": [],
   "source": [
    "def generator_loss(disc_generated_output, gen_output, target):\n",
    "    gan_loss = loss_function(tf.ones_like(disc_generated_output), disc_generated_output)\n",
    "    l1_loss = tf.reduce_mean(tf.abs(target - gen_output))\n",
    "    total_gen_loss = gan_loss + (LAMBDA * l1_loss)\n",
    "    return total_gen_loss, gan_loss, l1_loss"
   ]
  },
  {
   "cell_type": "code",
   "execution_count": 21,
   "id": "legendary-sense",
   "metadata": {},
   "outputs": [],
   "source": [
    "def discriminator():\n",
    "    init = tf.random_normal_initializer(0., 0.02)\n",
    "    \n",
    "    inp = Input(shape = [IMAGE_SIZE, IMAGE_SIZE, 3], name = \"input_image\")\n",
    "    tar = Input(shape = [IMAGE_SIZE, IMAGE_SIZE, 3], name = \"target_image\")\n",
    "    x = Concatenate()([inp, tar])\n",
    "    down1 = downsample(64,4,False)(x)\n",
    "    down2 = downsample(128, 4)(down1)\n",
    "    down3 = downsample(256, 4)(down2)\n",
    "    \n",
    "    zero_pad1 = ZeroPadding2D()(down3)\n",
    "    conv = Conv2D(256, 4, strides = 1, kernel_initializer = init, use_bias = False)(zero_pad1)\n",
    "    leaky_relu = LeakyReLU()(conv)\n",
    "    zero_pad2 = ZeroPadding2D()(leaky_relu)\n",
    "    last = Conv2D(1, 4, strides = 1, kernel_initializer=init)(zero_pad2)\n",
    "    return Model(inputs = [inp, tar], outputs = last)"
   ]
  },
  {
   "cell_type": "code",
   "execution_count": 22,
   "id": "brave-madison",
   "metadata": {},
   "outputs": [
    {
     "name": "stdout",
     "output_type": "stream",
     "text": [
      "Model: \"model_1\"\n",
      "__________________________________________________________________________________________________\n",
      " Layer (type)                   Output Shape         Param #     Connected to                     \n",
      "==================================================================================================\n",
      " input_image (InputLayer)       [(None, 256, 256, 3  0           []                               \n",
      "                                )]                                                                \n",
      "                                                                                                  \n",
      " target_image (InputLayer)      [(None, 256, 256, 3  0           []                               \n",
      "                                )]                                                                \n",
      "                                                                                                  \n",
      " concatenate_7 (Concatenate)    (None, 256, 256, 6)  0           ['input_image[0][0]',            \n",
      "                                                                  'target_image[0][0]']           \n",
      "                                                                                                  \n",
      " sequential_17 (Sequential)     (None, 128, 128, 64  6144        ['concatenate_7[0][0]']          \n",
      "                                )                                                                 \n",
      "                                                                                                  \n",
      " sequential_18 (Sequential)     (None, 64, 64, 128)  131584      ['sequential_17[0][0]']          \n",
      "                                                                                                  \n",
      " sequential_19 (Sequential)     (None, 32, 32, 256)  525312      ['sequential_18[0][0]']          \n",
      "                                                                                                  \n",
      " zero_padding2d (ZeroPadding2D)  (None, 34, 34, 256)  0          ['sequential_19[0][0]']          \n",
      "                                                                                                  \n",
      " conv2d_12 (Conv2D)             (None, 31, 31, 256)  1048576     ['zero_padding2d[0][0]']         \n",
      "                                                                                                  \n",
      " leaky_re_lu_12 (LeakyReLU)     (None, 31, 31, 256)  0           ['conv2d_12[0][0]']              \n",
      "                                                                                                  \n",
      " zero_padding2d_1 (ZeroPadding2  (None, 33, 33, 256)  0          ['leaky_re_lu_12[0][0]']         \n",
      " D)                                                                                               \n",
      "                                                                                                  \n",
      " conv2d_13 (Conv2D)             (None, 30, 30, 1)    4097        ['zero_padding2d_1[0][0]']       \n",
      "                                                                                                  \n",
      "==================================================================================================\n",
      "Total params: 1,715,713\n",
      "Trainable params: 1,714,945\n",
      "Non-trainable params: 768\n",
      "__________________________________________________________________________________________________\n"
     ]
    }
   ],
   "source": [
    "disc = discriminator()\n",
    "disc.summary()"
   ]
  },
  {
   "cell_type": "code",
   "execution_count": 23,
   "id": "strong-framework",
   "metadata": {},
   "outputs": [],
   "source": [
    "# plot_model(disc, show_shapes=True, dpi = 64)"
   ]
  },
  {
   "cell_type": "code",
   "execution_count": 24,
   "id": "breeding-kinase",
   "metadata": {},
   "outputs": [],
   "source": [
    "def discriminator_loss(disc_real_output, disc_generated_output):\n",
    "    real_loss = loss_function(tf.ones_like(disc_real_output), disc_real_output)\n",
    "    generated_loss = loss_function(tf.zeros_like(disc_generated_output), disc_generated_output)\n",
    "    total_disc_loss = real_loss + generated_loss\n",
    "    return total_disc_loss"
   ]
  },
  {
   "cell_type": "code",
   "execution_count": 25,
   "id": "ambient-uncertainty",
   "metadata": {},
   "outputs": [
    {
     "name": "stderr",
     "output_type": "stream",
     "text": [
      "c:\\Users\\fazil\\anaconda3\\envs\\tf-gpu\\lib\\site-packages\\keras\\optimizers\\optimizer_v2\\adam.py:114: UserWarning: The `lr` argument is deprecated, use `learning_rate` instead.\n",
      "  super().__init__(name, **kwargs)\n"
     ]
    }
   ],
   "source": [
    "generator_optimizer = Adam(lr= 2e-4, beta_1=0.5)\n",
    "discriminator_optimizer = Adam(lr = 2e-4, beta_1=0.5)"
   ]
  },
  {
   "cell_type": "code",
   "execution_count": 38,
   "id": "binary-testing",
   "metadata": {},
   "outputs": [],
   "source": [
    "def save_images(model, test_input, target, epoch):\n",
    "    prediction = model(test_input, training= True)\n",
    "    plt.figure(figsize = (2.56,2.56))\n",
    "    display_list= [prediction[0]]\n",
    "    # title = [\"Predicton Image\"]\n",
    "    for i in range(1):\n",
    "        # plt.subplot(1, 1, i+1)\n",
    "        # plt.title(title[i])\n",
    "        plt.imshow(display_list[i])\n",
    "        plt.axis(\"off\")\n",
    "    plt.savefig(f\"output/epoch_{epoch}.jpg\")\n",
    "    plt.close()"
   ]
  },
  {
   "cell_type": "code",
   "execution_count": 27,
   "id": "acquired-truck",
   "metadata": {},
   "outputs": [],
   "source": [
    "# make sure output directory exists to save images\n",
    "if os.path.exists(r\".output\"):\n",
    "    os.mkdir(\"output\")"
   ]
  },
  {
   "cell_type": "code",
   "execution_count": 28,
   "id": "cellular-tyler",
   "metadata": {},
   "outputs": [],
   "source": [
    "epochs = 200"
   ]
  },
  {
   "cell_type": "code",
   "execution_count": 29,
   "id": "destroyed-redhead",
   "metadata": {},
   "outputs": [],
   "source": [
    "@tf.function\n",
    "def train_step(input_image, target, epoch):\n",
    "    with tf.GradientTape() as gen_tape, tf.GradientTape() as disc_tape:\n",
    "        gen_output = gen(input_image, training = True)\n",
    "        \n",
    "        disc_real_output = disc([input_image, target], training = True)\n",
    "        disc_generated_output = disc([input_image, gen_output], training = True)\n",
    "        gen_total_loss, gen_gan_loss, gen_l1_loss = generator_loss(disc_generated_output, gen_output, target)\n",
    "        disc_loss = discriminator_loss(disc_real_output, disc_generated_output)\n",
    "        generator_gradients = gen_tape.gradient(gen_total_loss, gen.trainable_variables)\n",
    "        discriminator_gradients = disc_tape.gradient(disc_loss, disc.trainable_variables)\n",
    "        generator_optimizer.apply_gradients(zip(generator_gradients, gen.trainable_variables))\n",
    "        discriminator_optimizer.apply_gradients(zip(discriminator_gradients, disc.trainable_variables))\n",
    "        return gen_total_loss, disc_loss"
   ]
  },
  {
   "cell_type": "code",
   "execution_count": 30,
   "id": "tight-pittsburgh",
   "metadata": {},
   "outputs": [],
   "source": [
    "def fit(train_ds, epochs, test_ds):\n",
    "    for epoch in range(epochs):\n",
    "        start = time.time()\n",
    "        for input_, target in test_ds.take(1):\n",
    "            save_images(gen, input_, target, epoch)\n",
    "        # Train\n",
    "        print(f\"Epoch {epoch}\")\n",
    "        for n, (input_, target) in train_ds.enumerate():\n",
    "            gen_loss, disc_loss = train_step(input_, target, epoch)\n",
    "        print(\"Generator loss {:.2f} Discriminator loss {:.2f}\".format(gen_loss, disc_loss))\n",
    "        print(\"Time take for epoch {} is {} sec\\n\".format(epoch+1, time.time() - start))\n",
    "        "
   ]
  },
  {
   "cell_type": "code",
   "execution_count": 31,
   "id": "stainless-figure",
   "metadata": {},
   "outputs": [],
   "source": [
    "import keras\n",
    "keras.backend.clear_session()"
   ]
  },
  {
   "cell_type": "code",
   "execution_count": 32,
   "id": "e5587f86",
   "metadata": {},
   "outputs": [
    {
     "data": {
      "image/png": "[encoded data removed]",
      "text/plain": [
       "<Figure size 1000x500 with 2 Axes>"
      ]
     },
     "metadata": {},
     "output_type": "display_data"
    }
   ],
   "source": [
    "import matplotlib.pyplot as plt\n",
    "\n",
    "# Function to display images\n",
    "def display_images(dataset, num_images=5):\n",
    "    for batch in dataset.take(1):  # Take one batch of data\n",
    "        input_images, real_images = batch  # Unpack the batch\n",
    "        for i in range(min(num_images, input_images.shape[0])):  # Show up to `num_images`\n",
    "            plt.figure(figsize=(10, 5))\n",
    "            \n",
    "            # Display the input image\n",
    "            plt.subplot(1, 2, 1)\n",
    "            plt.imshow(input_images[i].numpy().astype(\"float32\"))\n",
    "            plt.title(\"Input Image (With Automold Effects)\")\n",
    "            plt.axis(\"off\")\n",
    "            \n",
    "            # Display the real image\n",
    "            plt.subplot(1, 2, 2)\n",
    "            plt.imshow(real_images[i].numpy().astype(\"float32\"))\n",
    "            plt.title(\"Real Image\")\n",
    "            plt.axis(\"off\")\n",
    "            \n",
    "            plt.show()\n",
    "\n",
    "# Display a few images from the dataset\n",
    "display_images(train_dataset, num_images=5)\n"
   ]
  },
  {
   "cell_type": "code",
   "execution_count": 39,
   "id": "artificial-enough",
   "metadata": {},
   "outputs": [
    {
     "name": "stderr",
     "output_type": "stream",
     "text": [
      "Clipping input data to the valid range for imshow with RGB data ([0..1] for floats or [0..255] for integers).\n"
     ]
    },
    {
     "name": "stdout",
     "output_type": "stream",
     "text": [
      "Epoch 0\n",
      "Generator loss 12.90 Discriminator loss 0.12\n",
      "Time take for epoch 1 is 108.8971483707428 sec\n",
      "\n"
     ]
    },
    {
     "name": "stderr",
     "output_type": "stream",
     "text": [
      "Clipping input data to the valid range for imshow with RGB data ([0..1] for floats or [0..255] for integers).\n"
     ]
    },
    {
     "name": "stdout",
     "output_type": "stream",
     "text": [
      "Epoch 1\n",
      "Generator loss 13.66 Discriminator loss 1.49\n",
      "Time take for epoch 2 is 109.90636205673218 sec\n",
      "\n"
     ]
    },
    {
     "name": "stderr",
     "output_type": "stream",
     "text": [
      "Clipping input data to the valid range for imshow with RGB data ([0..1] for floats or [0..255] for integers).\n"
     ]
    },
    {
     "name": "stdout",
     "output_type": "stream",
     "text": [
      "Epoch 2\n",
      "Generator loss 13.40 Discriminator loss 0.13\n",
      "Time take for epoch 3 is 107.55968403816223 sec\n",
      "\n"
     ]
    },
    {
     "name": "stderr",
     "output_type": "stream",
     "text": [
      "Clipping input data to the valid range for imshow with RGB data ([0..1] for floats or [0..255] for integers).\n"
     ]
    },
    {
     "name": "stdout",
     "output_type": "stream",
     "text": [
      "Epoch 3\n",
      "Generator loss 13.59 Discriminator loss 1.16\n",
      "Time take for epoch 4 is 107.81972670555115 sec\n",
      "\n"
     ]
    },
    {
     "name": "stderr",
     "output_type": "stream",
     "text": [
      "Clipping input data to the valid range for imshow with RGB data ([0..1] for floats or [0..255] for integers).\n"
     ]
    },
    {
     "name": "stdout",
     "output_type": "stream",
     "text": [
      "Epoch 4\n",
      "Generator loss 11.19 Discriminator loss 0.36\n",
      "Time take for epoch 5 is 107.68403840065002 sec\n",
      "\n"
     ]
    },
    {
     "name": "stderr",
     "output_type": "stream",
     "text": [
      "Clipping input data to the valid range for imshow with RGB data ([0..1] for floats or [0..255] for integers).\n"
     ]
    },
    {
     "name": "stdout",
     "output_type": "stream",
     "text": [
      "Epoch 5\n",
      "Generator loss 17.80 Discriminator loss 1.10\n",
      "Time take for epoch 6 is 109.16715669631958 sec\n",
      "\n"
     ]
    },
    {
     "name": "stderr",
     "output_type": "stream",
     "text": [
      "Clipping input data to the valid range for imshow with RGB data ([0..1] for floats or [0..255] for integers).\n"
     ]
    },
    {
     "name": "stdout",
     "output_type": "stream",
     "text": [
      "Epoch 6\n",
      "Generator loss 9.67 Discriminator loss 0.49\n",
      "Time take for epoch 7 is 108.2791051864624 sec\n",
      "\n"
     ]
    },
    {
     "name": "stderr",
     "output_type": "stream",
     "text": [
      "Clipping input data to the valid range for imshow with RGB data ([0..1] for floats or [0..255] for integers).\n"
     ]
    },
    {
     "name": "stdout",
     "output_type": "stream",
     "text": [
      "Epoch 7\n",
      "Generator loss 6.54 Discriminator loss 1.10\n",
      "Time take for epoch 8 is 108.2417356967926 sec\n",
      "\n"
     ]
    },
    {
     "name": "stderr",
     "output_type": "stream",
     "text": [
      "Clipping input data to the valid range for imshow with RGB data ([0..1] for floats or [0..255] for integers).\n"
     ]
    },
    {
     "name": "stdout",
     "output_type": "stream",
     "text": [
      "Epoch 8\n",
      "Generator loss 15.90 Discriminator loss 0.22\n",
      "Time take for epoch 9 is 108.35229206085205 sec\n",
      "\n"
     ]
    },
    {
     "name": "stderr",
     "output_type": "stream",
     "text": [
      "Clipping input data to the valid range for imshow with RGB data ([0..1] for floats or [0..255] for integers).\n"
     ]
    },
    {
     "name": "stdout",
     "output_type": "stream",
     "text": [
      "Epoch 9\n",
      "Generator loss 8.23 Discriminator loss 0.21\n",
      "Time take for epoch 10 is 109.64031529426575 sec\n",
      "\n"
     ]
    },
    {
     "name": "stderr",
     "output_type": "stream",
     "text": [
      "Clipping input data to the valid range for imshow with RGB data ([0..1] for floats or [0..255] for integers).\n"
     ]
    },
    {
     "name": "stdout",
     "output_type": "stream",
     "text": [
      "Epoch 10\n",
      "Generator loss 4.29 Discriminator loss 2.33\n",
      "Time take for epoch 11 is 108.54570436477661 sec\n",
      "\n"
     ]
    },
    {
     "name": "stderr",
     "output_type": "stream",
     "text": [
      "Clipping input data to the valid range for imshow with RGB data ([0..1] for floats or [0..255] for integers).\n"
     ]
    },
    {
     "name": "stdout",
     "output_type": "stream",
     "text": [
      "Epoch 11\n",
      "Generator loss 13.41 Discriminator loss 0.08\n",
      "Time take for epoch 12 is 108.246267080307 sec\n",
      "\n"
     ]
    },
    {
     "name": "stderr",
     "output_type": "stream",
     "text": [
      "Clipping input data to the valid range for imshow with RGB data ([0..1] for floats or [0..255] for integers).\n"
     ]
    },
    {
     "name": "stdout",
     "output_type": "stream",
     "text": [
      "Epoch 12\n",
      "Generator loss 7.33 Discriminator loss 0.08\n",
      "Time take for epoch 13 is 108.26969408988953 sec\n",
      "\n"
     ]
    },
    {
     "name": "stderr",
     "output_type": "stream",
     "text": [
      "Clipping input data to the valid range for imshow with RGB data ([0..1] for floats or [0..255] for integers).\n"
     ]
    },
    {
     "name": "stdout",
     "output_type": "stream",
     "text": [
      "Epoch 13\n",
      "Generator loss 11.06 Discriminator loss 0.08\n",
      "Time take for epoch 14 is 108.25974917411804 sec\n",
      "\n"
     ]
    },
    {
     "name": "stderr",
     "output_type": "stream",
     "text": [
      "Clipping input data to the valid range for imshow with RGB data ([0..1] for floats or [0..255] for integers).\n"
     ]
    },
    {
     "name": "stdout",
     "output_type": "stream",
     "text": [
      "Epoch 14\n",
      "Generator loss 6.39 Discriminator loss 0.48\n",
      "Time take for epoch 15 is 108.06849932670593 sec\n",
      "\n"
     ]
    },
    {
     "name": "stderr",
     "output_type": "stream",
     "text": [
      "Clipping input data to the valid range for imshow with RGB data ([0..1] for floats or [0..255] for integers).\n"
     ]
    },
    {
     "name": "stdout",
     "output_type": "stream",
     "text": [
      "Epoch 15\n",
      "Generator loss 8.30 Discriminator loss 0.16\n",
      "Time take for epoch 16 is 108.00410747528076 sec\n",
      "\n"
     ]
    },
    {
     "name": "stderr",
     "output_type": "stream",
     "text": [
      "Clipping input data to the valid range for imshow with RGB data ([0..1] for floats or [0..255] for integers).\n"
     ]
    },
    {
     "name": "stdout",
     "output_type": "stream",
     "text": [
      "Epoch 16\n",
      "Generator loss 12.52 Discriminator loss 0.07\n",
      "Time take for epoch 17 is 108.15645051002502 sec\n",
      "\n"
     ]
    },
    {
     "name": "stderr",
     "output_type": "stream",
     "text": [
      "Clipping input data to the valid range for imshow with RGB data ([0..1] for floats or [0..255] for integers).\n"
     ]
    },
    {
     "name": "stdout",
     "output_type": "stream",
     "text": [
      "Epoch 17\n",
      "Generator loss 5.60 Discriminator loss 0.59\n",
      "Time take for epoch 18 is 108.80699133872986 sec\n",
      "\n"
     ]
    },
    {
     "name": "stderr",
     "output_type": "stream",
     "text": [
      "Clipping input data to the valid range for imshow with RGB data ([0..1] for floats or [0..255] for integers).\n"
     ]
    },
    {
     "name": "stdout",
     "output_type": "stream",
     "text": [
      "Epoch 18\n",
      "Generator loss 10.12 Discriminator loss 0.14\n",
      "Time take for epoch 19 is 108.34198117256165 sec\n",
      "\n"
     ]
    },
    {
     "name": "stderr",
     "output_type": "stream",
     "text": [
      "Clipping input data to the valid range for imshow with RGB data ([0..1] for floats or [0..255] for integers).\n"
     ]
    },
    {
     "name": "stdout",
     "output_type": "stream",
     "text": [
      "Epoch 19\n",
      "Generator loss 9.26 Discriminator loss 0.35\n",
      "Time take for epoch 20 is 108.29749131202698 sec\n",
      "\n"
     ]
    },
    {
     "name": "stderr",
     "output_type": "stream",
     "text": [
      "Clipping input data to the valid range for imshow with RGB data ([0..1] for floats or [0..255] for integers).\n"
     ]
    },
    {
     "name": "stdout",
     "output_type": "stream",
     "text": [
      "Epoch 20\n",
      "Generator loss 6.08 Discriminator loss 0.44\n",
      "Time take for epoch 21 is 108.27854990959167 sec\n",
      "\n"
     ]
    },
    {
     "name": "stderr",
     "output_type": "stream",
     "text": [
      "Clipping input data to the valid range for imshow with RGB data ([0..1] for floats or [0..255] for integers).\n"
     ]
    },
    {
     "name": "stdout",
     "output_type": "stream",
     "text": [
      "Epoch 21\n",
      "Generator loss 5.78 Discriminator loss 0.48\n",
      "Time take for epoch 22 is 108.31539011001587 sec\n",
      "\n"
     ]
    },
    {
     "name": "stderr",
     "output_type": "stream",
     "text": [
      "Clipping input data to the valid range for imshow with RGB data ([0..1] for floats or [0..255] for integers).\n"
     ]
    },
    {
     "name": "stdout",
     "output_type": "stream",
     "text": [
      "Epoch 22\n",
      "Generator loss 4.67 Discriminator loss 1.48\n",
      "Time take for epoch 23 is 108.32267737388611 sec\n",
      "\n"
     ]
    },
    {
     "name": "stderr",
     "output_type": "stream",
     "text": [
      "Clipping input data to the valid range for imshow with RGB data ([0..1] for floats or [0..255] for integers).\n"
     ]
    },
    {
     "name": "stdout",
     "output_type": "stream",
     "text": [
      "Epoch 23\n",
      "Generator loss 10.42 Discriminator loss 0.08\n",
      "Time take for epoch 24 is 108.23085951805115 sec\n",
      "\n"
     ]
    },
    {
     "name": "stderr",
     "output_type": "stream",
     "text": [
      "Clipping input data to the valid range for imshow with RGB data ([0..1] for floats or [0..255] for integers).\n"
     ]
    },
    {
     "name": "stdout",
     "output_type": "stream",
     "text": [
      "Epoch 24\n",
      "Generator loss 11.09 Discriminator loss 0.26\n",
      "Time take for epoch 25 is 108.1301474571228 sec\n",
      "\n"
     ]
    },
    {
     "name": "stderr",
     "output_type": "stream",
     "text": [
      "Clipping input data to the valid range for imshow with RGB data ([0..1] for floats or [0..255] for integers).\n"
     ]
    },
    {
     "name": "stdout",
     "output_type": "stream",
     "text": [
      "Epoch 25\n",
      "Generator loss 6.02 Discriminator loss 0.31\n",
      "Time take for epoch 26 is 108.2158682346344 sec\n",
      "\n"
     ]
    },
    {
     "name": "stderr",
     "output_type": "stream",
     "text": [
      "Clipping input data to the valid range for imshow with RGB data ([0..1] for floats or [0..255] for integers).\n"
     ]
    },
    {
     "name": "stdout",
     "output_type": "stream",
     "text": [
      "Epoch 26\n",
      "Generator loss 7.71 Discriminator loss 0.28\n",
      "Time take for epoch 27 is 108.31517887115479 sec\n",
      "\n"
     ]
    },
    {
     "name": "stderr",
     "output_type": "stream",
     "text": [
      "Clipping input data to the valid range for imshow with RGB data ([0..1] for floats or [0..255] for integers).\n"
     ]
    },
    {
     "name": "stdout",
     "output_type": "stream",
     "text": [
      "Epoch 27\n",
      "Generator loss 6.72 Discriminator loss 0.56\n",
      "Time take for epoch 28 is 108.25269484519958 sec\n",
      "\n"
     ]
    },
    {
     "name": "stderr",
     "output_type": "stream",
     "text": [
      "Clipping input data to the valid range for imshow with RGB data ([0..1] for floats or [0..255] for integers).\n"
     ]
    },
    {
     "name": "stdout",
     "output_type": "stream",
     "text": [
      "Epoch 28\n",
      "Generator loss 6.28 Discriminator loss 0.63\n",
      "Time take for epoch 29 is 108.5772967338562 sec\n",
      "\n"
     ]
    },
    {
     "name": "stderr",
     "output_type": "stream",
     "text": [
      "Clipping input data to the valid range for imshow with RGB data ([0..1] for floats or [0..255] for integers).\n"
     ]
    },
    {
     "name": "stdout",
     "output_type": "stream",
     "text": [
      "Epoch 29\n",
      "Generator loss 4.38 Discriminator loss 0.90\n",
      "Time take for epoch 30 is 108.35800170898438 sec\n",
      "\n"
     ]
    },
    {
     "name": "stderr",
     "output_type": "stream",
     "text": [
      "Clipping input data to the valid range for imshow with RGB data ([0..1] for floats or [0..255] for integers).\n"
     ]
    },
    {
     "name": "stdout",
     "output_type": "stream",
     "text": [
      "Epoch 30\n",
      "Generator loss 5.51 Discriminator loss 0.67\n",
      "Time take for epoch 31 is 108.36681270599365 sec\n",
      "\n"
     ]
    },
    {
     "name": "stderr",
     "output_type": "stream",
     "text": [
      "Clipping input data to the valid range for imshow with RGB data ([0..1] for floats or [0..255] for integers).\n"
     ]
    },
    {
     "name": "stdout",
     "output_type": "stream",
     "text": [
      "Epoch 31\n",
      "Generator loss 4.25 Discriminator loss 0.70\n",
      "Time take for epoch 32 is 108.3465576171875 sec\n",
      "\n"
     ]
    },
    {
     "name": "stderr",
     "output_type": "stream",
     "text": [
      "Clipping input data to the valid range for imshow with RGB data ([0..1] for floats or [0..255] for integers).\n"
     ]
    },
    {
     "name": "stdout",
     "output_type": "stream",
     "text": [
      "Epoch 32\n",
      "Generator loss 11.86 Discriminator loss 0.05\n",
      "Time take for epoch 33 is 108.35390257835388 sec\n",
      "\n"
     ]
    },
    {
     "name": "stderr",
     "output_type": "stream",
     "text": [
      "Clipping input data to the valid range for imshow with RGB data ([0..1] for floats or [0..255] for integers).\n"
     ]
    },
    {
     "name": "stdout",
     "output_type": "stream",
     "text": [
      "Epoch 33\n",
      "Generator loss 12.16 Discriminator loss 0.19\n",
      "Time take for epoch 34 is 108.40987658500671 sec\n",
      "\n"
     ]
    },
    {
     "name": "stderr",
     "output_type": "stream",
     "text": [
      "Clipping input data to the valid range for imshow with RGB data ([0..1] for floats or [0..255] for integers).\n"
     ]
    },
    {
     "name": "stdout",
     "output_type": "stream",
     "text": [
      "Epoch 34\n",
      "Generator loss 4.80 Discriminator loss 0.52\n",
      "Time take for epoch 35 is 108.33550310134888 sec\n",
      "\n"
     ]
    },
    {
     "name": "stderr",
     "output_type": "stream",
     "text": [
      "Clipping input data to the valid range for imshow with RGB data ([0..1] for floats or [0..255] for integers).\n"
     ]
    },
    {
     "name": "stdout",
     "output_type": "stream",
     "text": [
      "Epoch 35\n",
      "Generator loss 6.05 Discriminator loss 1.73\n",
      "Time take for epoch 36 is 108.34764981269836 sec\n",
      "\n"
     ]
    },
    {
     "name": "stderr",
     "output_type": "stream",
     "text": [
      "Clipping input data to the valid range for imshow with RGB data ([0..1] for floats or [0..255] for integers).\n"
     ]
    },
    {
     "name": "stdout",
     "output_type": "stream",
     "text": [
      "Epoch 36\n",
      "Generator loss 6.38 Discriminator loss 0.53\n",
      "Time take for epoch 37 is 108.30228996276855 sec\n",
      "\n"
     ]
    },
    {
     "name": "stderr",
     "output_type": "stream",
     "text": [
      "Clipping input data to the valid range for imshow with RGB data ([0..1] for floats or [0..255] for integers).\n"
     ]
    },
    {
     "name": "stdout",
     "output_type": "stream",
     "text": [
      "Epoch 37\n",
      "Generator loss 6.01 Discriminator loss 0.46\n",
      "Time take for epoch 38 is 108.12000918388367 sec\n",
      "\n"
     ]
    },
    {
     "name": "stderr",
     "output_type": "stream",
     "text": [
      "Clipping input data to the valid range for imshow with RGB data ([0..1] for floats or [0..255] for integers).\n"
     ]
    },
    {
     "name": "stdout",
     "output_type": "stream",
     "text": [
      "Epoch 38\n",
      "Generator loss 8.00 Discriminator loss 0.21\n",
      "Time take for epoch 39 is 108.16087079048157 sec\n",
      "\n"
     ]
    },
    {
     "name": "stderr",
     "output_type": "stream",
     "text": [
      "Clipping input data to the valid range for imshow with RGB data ([0..1] for floats or [0..255] for integers).\n"
     ]
    },
    {
     "name": "stdout",
     "output_type": "stream",
     "text": [
      "Epoch 39\n",
      "Generator loss 6.28 Discriminator loss 0.43\n",
      "Time take for epoch 40 is 107.94542217254639 sec\n",
      "\n"
     ]
    },
    {
     "name": "stderr",
     "output_type": "stream",
     "text": [
      "Clipping input data to the valid range for imshow with RGB data ([0..1] for floats or [0..255] for integers).\n"
     ]
    },
    {
     "name": "stdout",
     "output_type": "stream",
     "text": [
      "Epoch 40\n",
      "Generator loss 8.02 Discriminator loss 0.12\n",
      "Time take for epoch 41 is 108.08568835258484 sec\n",
      "\n"
     ]
    },
    {
     "name": "stderr",
     "output_type": "stream",
     "text": [
      "Clipping input data to the valid range for imshow with RGB data ([0..1] for floats or [0..255] for integers).\n"
     ]
    },
    {
     "name": "stdout",
     "output_type": "stream",
     "text": [
      "Epoch 41\n",
      "Generator loss 6.09 Discriminator loss 1.16\n",
      "Time take for epoch 42 is 107.51908206939697 sec\n",
      "\n"
     ]
    },
    {
     "name": "stderr",
     "output_type": "stream",
     "text": [
      "Clipping input data to the valid range for imshow with RGB data ([0..1] for floats or [0..255] for integers).\n"
     ]
    },
    {
     "name": "stdout",
     "output_type": "stream",
     "text": [
      "Epoch 42\n",
      "Generator loss 12.10 Discriminator loss 0.24\n",
      "Time take for epoch 43 is 107.60213232040405 sec\n",
      "\n"
     ]
    },
    {
     "name": "stderr",
     "output_type": "stream",
     "text": [
      "Clipping input data to the valid range for imshow with RGB data ([0..1] for floats or [0..255] for integers).\n"
     ]
    },
    {
     "name": "stdout",
     "output_type": "stream",
     "text": [
      "Epoch 43\n",
      "Generator loss 9.28 Discriminator loss 0.17\n",
      "Time take for epoch 44 is 107.576251745224 sec\n",
      "\n"
     ]
    },
    {
     "name": "stderr",
     "output_type": "stream",
     "text": [
      "Clipping input data to the valid range for imshow with RGB data ([0..1] for floats or [0..255] for integers).\n"
     ]
    },
    {
     "name": "stdout",
     "output_type": "stream",
     "text": [
      "Epoch 44\n",
      "Generator loss 4.85 Discriminator loss 0.98\n",
      "Time take for epoch 45 is 107.66603827476501 sec\n",
      "\n"
     ]
    },
    {
     "name": "stderr",
     "output_type": "stream",
     "text": [
      "Clipping input data to the valid range for imshow with RGB data ([0..1] for floats or [0..255] for integers).\n"
     ]
    },
    {
     "name": "stdout",
     "output_type": "stream",
     "text": [
      "Epoch 45\n",
      "Generator loss 4.21 Discriminator loss 1.26\n",
      "Time take for epoch 46 is 107.59534454345703 sec\n",
      "\n"
     ]
    },
    {
     "name": "stderr",
     "output_type": "stream",
     "text": [
      "Clipping input data to the valid range for imshow with RGB data ([0..1] for floats or [0..255] for integers).\n"
     ]
    },
    {
     "name": "stdout",
     "output_type": "stream",
     "text": [
      "Epoch 46\n",
      "Generator loss 5.09 Discriminator loss 0.78\n",
      "Time take for epoch 47 is 107.8983895778656 sec\n",
      "\n"
     ]
    },
    {
     "name": "stderr",
     "output_type": "stream",
     "text": [
      "Clipping input data to the valid range for imshow with RGB data ([0..1] for floats or [0..255] for integers).\n"
     ]
    },
    {
     "name": "stdout",
     "output_type": "stream",
     "text": [
      "Epoch 47\n",
      "Generator loss 10.83 Discriminator loss 1.29\n",
      "Time take for epoch 48 is 107.85800862312317 sec\n",
      "\n"
     ]
    },
    {
     "name": "stderr",
     "output_type": "stream",
     "text": [
      "Clipping input data to the valid range for imshow with RGB data ([0..1] for floats or [0..255] for integers).\n"
     ]
    },
    {
     "name": "stdout",
     "output_type": "stream",
     "text": [
      "Epoch 48\n",
      "Generator loss 6.49 Discriminator loss 0.98\n",
      "Time take for epoch 49 is 107.7610387802124 sec\n",
      "\n"
     ]
    },
    {
     "name": "stderr",
     "output_type": "stream",
     "text": [
      "Clipping input data to the valid range for imshow with RGB data ([0..1] for floats or [0..255] for integers).\n"
     ]
    },
    {
     "name": "stdout",
     "output_type": "stream",
     "text": [
      "Epoch 49\n",
      "Generator loss 6.64 Discriminator loss 0.31\n",
      "Time take for epoch 50 is 107.82965230941772 sec\n",
      "\n"
     ]
    },
    {
     "name": "stderr",
     "output_type": "stream",
     "text": [
      "Clipping input data to the valid range for imshow with RGB data ([0..1] for floats or [0..255] for integers).\n"
     ]
    },
    {
     "name": "stdout",
     "output_type": "stream",
     "text": [
      "Epoch 50\n",
      "Generator loss 8.03 Discriminator loss 0.54\n",
      "Time take for epoch 51 is 107.87365102767944 sec\n",
      "\n"
     ]
    },
    {
     "name": "stderr",
     "output_type": "stream",
     "text": [
      "Clipping input data to the valid range for imshow with RGB data ([0..1] for floats or [0..255] for integers).\n"
     ]
    },
    {
     "name": "stdout",
     "output_type": "stream",
     "text": [
      "Epoch 51\n",
      "Generator loss 10.60 Discriminator loss 0.11\n",
      "Time take for epoch 52 is 107.85940027236938 sec\n",
      "\n"
     ]
    },
    {
     "name": "stderr",
     "output_type": "stream",
     "text": [
      "Clipping input data to the valid range for imshow with RGB data ([0..1] for floats or [0..255] for integers).\n"
     ]
    },
    {
     "name": "stdout",
     "output_type": "stream",
     "text": [
      "Epoch 52\n",
      "Generator loss 5.51 Discriminator loss 0.97\n",
      "Time take for epoch 53 is 107.86274480819702 sec\n",
      "\n"
     ]
    },
    {
     "name": "stderr",
     "output_type": "stream",
     "text": [
      "Clipping input data to the valid range for imshow with RGB data ([0..1] for floats or [0..255] for integers).\n"
     ]
    },
    {
     "name": "stdout",
     "output_type": "stream",
     "text": [
      "Epoch 53\n",
      "Generator loss 4.76 Discriminator loss 0.75\n",
      "Time take for epoch 54 is 107.77515149116516 sec\n",
      "\n"
     ]
    },
    {
     "name": "stderr",
     "output_type": "stream",
     "text": [
      "Clipping input data to the valid range for imshow with RGB data ([0..1] for floats or [0..255] for integers).\n"
     ]
    },
    {
     "name": "stdout",
     "output_type": "stream",
     "text": [
      "Epoch 54\n",
      "Generator loss 7.45 Discriminator loss 0.15\n",
      "Time take for epoch 55 is 107.64003324508667 sec\n",
      "\n"
     ]
    },
    {
     "name": "stderr",
     "output_type": "stream",
     "text": [
      "Clipping input data to the valid range for imshow with RGB data ([0..1] for floats or [0..255] for integers).\n"
     ]
    },
    {
     "name": "stdout",
     "output_type": "stream",
     "text": [
      "Epoch 55\n",
      "Generator loss 5.55 Discriminator loss 0.67\n",
      "Time take for epoch 56 is 107.7065646648407 sec\n",
      "\n"
     ]
    },
    {
     "name": "stderr",
     "output_type": "stream",
     "text": [
      "Clipping input data to the valid range for imshow with RGB data ([0..1] for floats or [0..255] for integers).\n"
     ]
    },
    {
     "name": "stdout",
     "output_type": "stream",
     "text": [
      "Epoch 56\n",
      "Generator loss 5.74 Discriminator loss 0.56\n",
      "Time take for epoch 57 is 108.46162128448486 sec\n",
      "\n"
     ]
    },
    {
     "name": "stderr",
     "output_type": "stream",
     "text": [
      "Clipping input data to the valid range for imshow with RGB data ([0..1] for floats or [0..255] for integers).\n"
     ]
    },
    {
     "name": "stdout",
     "output_type": "stream",
     "text": [
      "Epoch 57\n",
      "Generator loss 4.66 Discriminator loss 1.78\n",
      "Time take for epoch 58 is 107.64327669143677 sec\n",
      "\n"
     ]
    },
    {
     "name": "stderr",
     "output_type": "stream",
     "text": [
      "Clipping input data to the valid range for imshow with RGB data ([0..1] for floats or [0..255] for integers).\n"
     ]
    },
    {
     "name": "stdout",
     "output_type": "stream",
     "text": [
      "Epoch 58\n",
      "Generator loss 4.73 Discriminator loss 0.71\n",
      "Time take for epoch 59 is 107.62393474578857 sec\n",
      "\n"
     ]
    },
    {
     "name": "stderr",
     "output_type": "stream",
     "text": [
      "Clipping input data to the valid range for imshow with RGB data ([0..1] for floats or [0..255] for integers).\n"
     ]
    },
    {
     "name": "stdout",
     "output_type": "stream",
     "text": [
      "Epoch 59\n",
      "Generator loss 4.97 Discriminator loss 0.55\n",
      "Time take for epoch 60 is 107.53169965744019 sec\n",
      "\n"
     ]
    },
    {
     "name": "stderr",
     "output_type": "stream",
     "text": [
      "Clipping input data to the valid range for imshow with RGB data ([0..1] for floats or [0..255] for integers).\n"
     ]
    },
    {
     "name": "stdout",
     "output_type": "stream",
     "text": [
      "Epoch 60\n",
      "Generator loss 5.50 Discriminator loss 0.81\n",
      "Time take for epoch 61 is 107.57717776298523 sec\n",
      "\n"
     ]
    },
    {
     "name": "stderr",
     "output_type": "stream",
     "text": [
      "Clipping input data to the valid range for imshow with RGB data ([0..1] for floats or [0..255] for integers).\n"
     ]
    },
    {
     "name": "stdout",
     "output_type": "stream",
     "text": [
      "Epoch 61\n",
      "Generator loss 6.12 Discriminator loss 0.63\n",
      "Time take for epoch 62 is 107.5058822631836 sec\n",
      "\n"
     ]
    },
    {
     "name": "stderr",
     "output_type": "stream",
     "text": [
      "Clipping input data to the valid range for imshow with RGB data ([0..1] for floats or [0..255] for integers).\n"
     ]
    },
    {
     "name": "stdout",
     "output_type": "stream",
     "text": [
      "Epoch 62\n",
      "Generator loss 6.00 Discriminator loss 0.21\n",
      "Time take for epoch 63 is 107.59522604942322 sec\n",
      "\n"
     ]
    },
    {
     "name": "stderr",
     "output_type": "stream",
     "text": [
      "Clipping input data to the valid range for imshow with RGB data ([0..1] for floats or [0..255] for integers).\n"
     ]
    },
    {
     "name": "stdout",
     "output_type": "stream",
     "text": [
      "Epoch 63\n",
      "Generator loss 4.19 Discriminator loss 1.44\n",
      "Time take for epoch 64 is 107.4835798740387 sec\n",
      "\n"
     ]
    },
    {
     "name": "stderr",
     "output_type": "stream",
     "text": [
      "Clipping input data to the valid range for imshow with RGB data ([0..1] for floats or [0..255] for integers).\n"
     ]
    },
    {
     "name": "stdout",
     "output_type": "stream",
     "text": [
      "Epoch 64\n",
      "Generator loss 5.55 Discriminator loss 0.85\n",
      "Time take for epoch 65 is 107.43254709243774 sec\n",
      "\n"
     ]
    },
    {
     "name": "stderr",
     "output_type": "stream",
     "text": [
      "Clipping input data to the valid range for imshow with RGB data ([0..1] for floats or [0..255] for integers).\n"
     ]
    },
    {
     "name": "stdout",
     "output_type": "stream",
     "text": [
      "Epoch 65\n",
      "Generator loss 3.81 Discriminator loss 1.11\n",
      "Time take for epoch 66 is 107.470778465271 sec\n",
      "\n"
     ]
    },
    {
     "name": "stderr",
     "output_type": "stream",
     "text": [
      "Clipping input data to the valid range for imshow with RGB data ([0..1] for floats or [0..255] for integers).\n"
     ]
    },
    {
     "name": "stdout",
     "output_type": "stream",
     "text": [
      "Epoch 66\n",
      "Generator loss 6.62 Discriminator loss 1.03\n",
      "Time take for epoch 67 is 107.59808349609375 sec\n",
      "\n"
     ]
    },
    {
     "name": "stderr",
     "output_type": "stream",
     "text": [
      "Clipping input data to the valid range for imshow with RGB data ([0..1] for floats or [0..255] for integers).\n"
     ]
    },
    {
     "name": "stdout",
     "output_type": "stream",
     "text": [
      "Epoch 67\n",
      "Generator loss 9.55 Discriminator loss 0.16\n",
      "Time take for epoch 68 is 107.36772632598877 sec\n",
      "\n"
     ]
    },
    {
     "name": "stderr",
     "output_type": "stream",
     "text": [
      "Clipping input data to the valid range for imshow with RGB data ([0..1] for floats or [0..255] for integers).\n"
     ]
    },
    {
     "name": "stdout",
     "output_type": "stream",
     "text": [
      "Epoch 68\n",
      "Generator loss 5.64 Discriminator loss 1.07\n",
      "Time take for epoch 69 is 107.70416498184204 sec\n",
      "\n"
     ]
    },
    {
     "name": "stderr",
     "output_type": "stream",
     "text": [
      "Clipping input data to the valid range for imshow with RGB data ([0..1] for floats or [0..255] for integers).\n"
     ]
    },
    {
     "name": "stdout",
     "output_type": "stream",
     "text": [
      "Epoch 69\n",
      "Generator loss 4.97 Discriminator loss 0.82\n",
      "Time take for epoch 70 is 107.40480399131775 sec\n",
      "\n"
     ]
    },
    {
     "name": "stderr",
     "output_type": "stream",
     "text": [
      "Clipping input data to the valid range for imshow with RGB data ([0..1] for floats or [0..255] for integers).\n"
     ]
    },
    {
     "name": "stdout",
     "output_type": "stream",
     "text": [
      "Epoch 70\n",
      "Generator loss 4.25 Discriminator loss 0.87\n",
      "Time take for epoch 71 is 107.55050039291382 sec\n",
      "\n"
     ]
    },
    {
     "name": "stderr",
     "output_type": "stream",
     "text": [
      "Clipping input data to the valid range for imshow with RGB data ([0..1] for floats or [0..255] for integers).\n"
     ]
    },
    {
     "name": "stdout",
     "output_type": "stream",
     "text": [
      "Epoch 71\n",
      "Generator loss 9.54 Discriminator loss 0.06\n",
      "Time take for epoch 72 is 107.69565939903259 sec\n",
      "\n"
     ]
    },
    {
     "name": "stderr",
     "output_type": "stream",
     "text": [
      "Clipping input data to the valid range for imshow with RGB data ([0..1] for floats or [0..255] for integers).\n"
     ]
    },
    {
     "name": "stdout",
     "output_type": "stream",
     "text": [
      "Epoch 72\n",
      "Generator loss 11.21 Discriminator loss 0.03\n",
      "Time take for epoch 73 is 107.62216711044312 sec\n",
      "\n"
     ]
    },
    {
     "name": "stderr",
     "output_type": "stream",
     "text": [
      "Clipping input data to the valid range for imshow with RGB data ([0..1] for floats or [0..255] for integers).\n"
     ]
    },
    {
     "name": "stdout",
     "output_type": "stream",
     "text": [
      "Epoch 73\n",
      "Generator loss 5.36 Discriminator loss 0.64\n",
      "Time take for epoch 74 is 107.41633200645447 sec\n",
      "\n"
     ]
    },
    {
     "name": "stderr",
     "output_type": "stream",
     "text": [
      "Clipping input data to the valid range for imshow with RGB data ([0..1] for floats or [0..255] for integers).\n"
     ]
    },
    {
     "name": "stdout",
     "output_type": "stream",
     "text": [
      "Epoch 74\n",
      "Generator loss 5.00 Discriminator loss 0.56\n",
      "Time take for epoch 75 is 107.60568571090698 sec\n",
      "\n"
     ]
    },
    {
     "name": "stderr",
     "output_type": "stream",
     "text": [
      "Clipping input data to the valid range for imshow with RGB data ([0..1] for floats or [0..255] for integers).\n"
     ]
    },
    {
     "name": "stdout",
     "output_type": "stream",
     "text": [
      "Epoch 75\n",
      "Generator loss 4.27 Discriminator loss 1.03\n",
      "Time take for epoch 76 is 108.06035327911377 sec\n",
      "\n"
     ]
    },
    {
     "name": "stderr",
     "output_type": "stream",
     "text": [
      "Clipping input data to the valid range for imshow with RGB data ([0..1] for floats or [0..255] for integers).\n"
     ]
    },
    {
     "name": "stdout",
     "output_type": "stream",
     "text": [
      "Epoch 76\n",
      "Generator loss 5.80 Discriminator loss 0.59\n",
      "Time take for epoch 77 is 107.69885635375977 sec\n",
      "\n"
     ]
    },
    {
     "name": "stderr",
     "output_type": "stream",
     "text": [
      "Clipping input data to the valid range for imshow with RGB data ([0..1] for floats or [0..255] for integers).\n"
     ]
    },
    {
     "name": "stdout",
     "output_type": "stream",
     "text": [
      "Epoch 77\n",
      "Generator loss 10.19 Discriminator loss 0.02\n",
      "Time take for epoch 78 is 107.6038613319397 sec\n",
      "\n"
     ]
    },
    {
     "name": "stderr",
     "output_type": "stream",
     "text": [
      "Clipping input data to the valid range for imshow with RGB data ([0..1] for floats or [0..255] for integers).\n"
     ]
    },
    {
     "name": "stdout",
     "output_type": "stream",
     "text": [
      "Epoch 78\n",
      "Generator loss 7.35 Discriminator loss 0.26\n",
      "Time take for epoch 79 is 107.57607364654541 sec\n",
      "\n"
     ]
    },
    {
     "name": "stderr",
     "output_type": "stream",
     "text": [
      "Clipping input data to the valid range for imshow with RGB data ([0..1] for floats or [0..255] for integers).\n"
     ]
    },
    {
     "name": "stdout",
     "output_type": "stream",
     "text": [
      "Epoch 79\n",
      "Generator loss 5.74 Discriminator loss 0.34\n",
      "Time take for epoch 80 is 107.5229811668396 sec\n",
      "\n"
     ]
    },
    {
     "name": "stderr",
     "output_type": "stream",
     "text": [
      "Clipping input data to the valid range for imshow with RGB data ([0..1] for floats or [0..255] for integers).\n"
     ]
    },
    {
     "name": "stdout",
     "output_type": "stream",
     "text": [
      "Epoch 80\n",
      "Generator loss 6.21 Discriminator loss 0.50\n",
      "Time take for epoch 81 is 107.62067246437073 sec\n",
      "\n"
     ]
    },
    {
     "name": "stderr",
     "output_type": "stream",
     "text": [
      "Clipping input data to the valid range for imshow with RGB data ([0..1] for floats or [0..255] for integers).\n"
     ]
    },
    {
     "name": "stdout",
     "output_type": "stream",
     "text": [
      "Epoch 81\n",
      "Generator loss 9.39 Discriminator loss 0.47\n",
      "Time take for epoch 82 is 107.48468923568726 sec\n",
      "\n"
     ]
    },
    {
     "name": "stderr",
     "output_type": "stream",
     "text": [
      "Clipping input data to the valid range for imshow with RGB data ([0..1] for floats or [0..255] for integers).\n"
     ]
    },
    {
     "name": "stdout",
     "output_type": "stream",
     "text": [
      "Epoch 82\n",
      "Generator loss 11.03 Discriminator loss 0.03\n",
      "Time take for epoch 83 is 107.41931295394897 sec\n",
      "\n"
     ]
    },
    {
     "name": "stderr",
     "output_type": "stream",
     "text": [
      "Clipping input data to the valid range for imshow with RGB data ([0..1] for floats or [0..255] for integers).\n"
     ]
    },
    {
     "name": "stdout",
     "output_type": "stream",
     "text": [
      "Epoch 83\n",
      "Generator loss 4.23 Discriminator loss 1.53\n",
      "Time take for epoch 84 is 107.73272681236267 sec\n",
      "\n"
     ]
    },
    {
     "name": "stderr",
     "output_type": "stream",
     "text": [
      "Clipping input data to the valid range for imshow with RGB data ([0..1] for floats or [0..255] for integers).\n"
     ]
    },
    {
     "name": "stdout",
     "output_type": "stream",
     "text": [
      "Epoch 84\n",
      "Generator loss 4.38 Discriminator loss 0.88\n",
      "Time take for epoch 85 is 107.61026954650879 sec\n",
      "\n"
     ]
    },
    {
     "name": "stderr",
     "output_type": "stream",
     "text": [
      "Clipping input data to the valid range for imshow with RGB data ([0..1] for floats or [0..255] for integers).\n"
     ]
    },
    {
     "name": "stdout",
     "output_type": "stream",
     "text": [
      "Epoch 85\n",
      "Generator loss 4.42 Discriminator loss 0.69\n",
      "Time take for epoch 86 is 107.85271263122559 sec\n",
      "\n"
     ]
    },
    {
     "name": "stderr",
     "output_type": "stream",
     "text": [
      "Clipping input data to the valid range for imshow with RGB data ([0..1] for floats or [0..255] for integers).\n"
     ]
    },
    {
     "name": "stdout",
     "output_type": "stream",
     "text": [
      "Epoch 86\n",
      "Generator loss 9.77 Discriminator loss 0.09\n",
      "Time take for epoch 87 is 107.4668698310852 sec\n",
      "\n"
     ]
    },
    {
     "name": "stderr",
     "output_type": "stream",
     "text": [
      "Clipping input data to the valid range for imshow with RGB data ([0..1] for floats or [0..255] for integers).\n"
     ]
    },
    {
     "name": "stdout",
     "output_type": "stream",
     "text": [
      "Epoch 87\n",
      "Generator loss 5.40 Discriminator loss 1.01\n",
      "Time take for epoch 88 is 107.5229914188385 sec\n",
      "\n"
     ]
    },
    {
     "name": "stderr",
     "output_type": "stream",
     "text": [
      "Clipping input data to the valid range for imshow with RGB data ([0..1] for floats or [0..255] for integers).\n"
     ]
    },
    {
     "name": "stdout",
     "output_type": "stream",
     "text": [
      "Epoch 88\n",
      "Generator loss 5.98 Discriminator loss 0.80\n",
      "Time take for epoch 89 is 107.63177394866943 sec\n",
      "\n"
     ]
    },
    {
     "name": "stderr",
     "output_type": "stream",
     "text": [
      "Clipping input data to the valid range for imshow with RGB data ([0..1] for floats or [0..255] for integers).\n"
     ]
    },
    {
     "name": "stdout",
     "output_type": "stream",
     "text": [
      "Epoch 89\n",
      "Generator loss 11.47 Discriminator loss 0.02\n",
      "Time take for epoch 90 is 107.45232677459717 sec\n",
      "\n"
     ]
    },
    {
     "name": "stderr",
     "output_type": "stream",
     "text": [
      "Clipping input data to the valid range for imshow with RGB data ([0..1] for floats or [0..255] for integers).\n"
     ]
    },
    {
     "name": "stdout",
     "output_type": "stream",
     "text": [
      "Epoch 90\n",
      "Generator loss 4.01 Discriminator loss 1.32\n",
      "Time take for epoch 91 is 107.5224461555481 sec\n",
      "\n"
     ]
    },
    {
     "name": "stderr",
     "output_type": "stream",
     "text": [
      "Clipping input data to the valid range for imshow with RGB data ([0..1] for floats or [0..255] for integers).\n"
     ]
    },
    {
     "name": "stdout",
     "output_type": "stream",
     "text": [
      "Epoch 91\n",
      "Generator loss 6.66 Discriminator loss 0.43\n",
      "Time take for epoch 92 is 107.6557126045227 sec\n",
      "\n"
     ]
    },
    {
     "name": "stderr",
     "output_type": "stream",
     "text": [
      "Clipping input data to the valid range for imshow with RGB data ([0..1] for floats or [0..255] for integers).\n"
     ]
    },
    {
     "name": "stdout",
     "output_type": "stream",
     "text": [
      "Epoch 92\n",
      "Generator loss 4.82 Discriminator loss 0.77\n",
      "Time take for epoch 93 is 107.49794697761536 sec\n",
      "\n"
     ]
    },
    {
     "name": "stderr",
     "output_type": "stream",
     "text": [
      "Clipping input data to the valid range for imshow with RGB data ([0..1] for floats or [0..255] for integers).\n"
     ]
    },
    {
     "name": "stdout",
     "output_type": "stream",
     "text": [
      "Epoch 93\n",
      "Generator loss 7.66 Discriminator loss 0.69\n",
      "Time take for epoch 94 is 107.71961331367493 sec\n",
      "\n"
     ]
    },
    {
     "name": "stderr",
     "output_type": "stream",
     "text": [
      "Clipping input data to the valid range for imshow with RGB data ([0..1] for floats or [0..255] for integers).\n"
     ]
    },
    {
     "name": "stdout",
     "output_type": "stream",
     "text": [
      "Epoch 94\n",
      "Generator loss 4.88 Discriminator loss 0.77\n",
      "Time take for epoch 95 is 107.57085418701172 sec\n",
      "\n"
     ]
    },
    {
     "name": "stderr",
     "output_type": "stream",
     "text": [
      "Clipping input data to the valid range for imshow with RGB data ([0..1] for floats or [0..255] for integers).\n"
     ]
    },
    {
     "name": "stdout",
     "output_type": "stream",
     "text": [
      "Epoch 95\n",
      "Generator loss 8.91 Discriminator loss 0.16\n",
      "Time take for epoch 96 is 107.81079149246216 sec\n",
      "\n"
     ]
    },
    {
     "name": "stderr",
     "output_type": "stream",
     "text": [
      "Clipping input data to the valid range for imshow with RGB data ([0..1] for floats or [0..255] for integers).\n"
     ]
    },
    {
     "name": "stdout",
     "output_type": "stream",
     "text": [
      "Epoch 96\n",
      "Generator loss 7.47 Discriminator loss 0.18\n",
      "Time take for epoch 97 is 107.39609146118164 sec\n",
      "\n"
     ]
    },
    {
     "name": "stderr",
     "output_type": "stream",
     "text": [
      "Clipping input data to the valid range for imshow with RGB data ([0..1] for floats or [0..255] for integers).\n"
     ]
    },
    {
     "name": "stdout",
     "output_type": "stream",
     "text": [
      "Epoch 97\n",
      "Generator loss 5.55 Discriminator loss 1.01\n",
      "Time take for epoch 98 is 107.6214919090271 sec\n",
      "\n"
     ]
    },
    {
     "name": "stderr",
     "output_type": "stream",
     "text": [
      "Clipping input data to the valid range for imshow with RGB data ([0..1] for floats or [0..255] for integers).\n"
     ]
    },
    {
     "name": "stdout",
     "output_type": "stream",
     "text": [
      "Epoch 98\n",
      "Generator loss 5.86 Discriminator loss 1.27\n",
      "Time take for epoch 99 is 107.38533902168274 sec\n",
      "\n"
     ]
    },
    {
     "name": "stderr",
     "output_type": "stream",
     "text": [
      "Clipping input data to the valid range for imshow with RGB data ([0..1] for floats or [0..255] for integers).\n"
     ]
    },
    {
     "name": "stdout",
     "output_type": "stream",
     "text": [
      "Epoch 99\n",
      "Generator loss 5.63 Discriminator loss 0.79\n",
      "Time take for epoch 100 is 108.36044144630432 sec\n",
      "\n"
     ]
    },
    {
     "name": "stderr",
     "output_type": "stream",
     "text": [
      "Clipping input data to the valid range for imshow with RGB data ([0..1] for floats or [0..255] for integers).\n"
     ]
    },
    {
     "name": "stdout",
     "output_type": "stream",
     "text": [
      "Epoch 100\n",
      "Generator loss 7.31 Discriminator loss 0.15\n",
      "Time take for epoch 101 is 107.64985275268555 sec\n",
      "\n"
     ]
    },
    {
     "name": "stderr",
     "output_type": "stream",
     "text": [
      "Clipping input data to the valid range for imshow with RGB data ([0..1] for floats or [0..255] for integers).\n"
     ]
    },
    {
     "name": "stdout",
     "output_type": "stream",
     "text": [
      "Epoch 101\n",
      "Generator loss 10.79 Discriminator loss 0.12\n",
      "Time take for epoch 102 is 107.50841021537781 sec\n",
      "\n"
     ]
    },
    {
     "name": "stderr",
     "output_type": "stream",
     "text": [
      "Clipping input data to the valid range for imshow with RGB data ([0..1] for floats or [0..255] for integers).\n"
     ]
    },
    {
     "name": "stdout",
     "output_type": "stream",
     "text": [
      "Epoch 102\n",
      "Generator loss 3.68 Discriminator loss 1.16\n",
      "Time take for epoch 103 is 107.71856570243835 sec\n",
      "\n"
     ]
    },
    {
     "name": "stderr",
     "output_type": "stream",
     "text": [
      "Clipping input data to the valid range for imshow with RGB data ([0..1] for floats or [0..255] for integers).\n"
     ]
    },
    {
     "name": "stdout",
     "output_type": "stream",
     "text": [
      "Epoch 103\n",
      "Generator loss 7.50 Discriminator loss 0.80\n",
      "Time take for epoch 104 is 107.45697402954102 sec\n",
      "\n"
     ]
    },
    {
     "name": "stderr",
     "output_type": "stream",
     "text": [
      "Clipping input data to the valid range for imshow with RGB data ([0..1] for floats or [0..255] for integers).\n"
     ]
    },
    {
     "name": "stdout",
     "output_type": "stream",
     "text": [
      "Epoch 104\n",
      "Generator loss 5.57 Discriminator loss 0.85\n",
      "Time take for epoch 105 is 107.67159843444824 sec\n",
      "\n"
     ]
    },
    {
     "name": "stderr",
     "output_type": "stream",
     "text": [
      "Clipping input data to the valid range for imshow with RGB data ([0..1] for floats or [0..255] for integers).\n"
     ]
    },
    {
     "name": "stdout",
     "output_type": "stream",
     "text": [
      "Epoch 105\n",
      "Generator loss 7.69 Discriminator loss 0.25\n",
      "Time take for epoch 106 is 107.6123275756836 sec\n",
      "\n"
     ]
    },
    {
     "name": "stderr",
     "output_type": "stream",
     "text": [
      "Clipping input data to the valid range for imshow with RGB data ([0..1] for floats or [0..255] for integers).\n"
     ]
    },
    {
     "name": "stdout",
     "output_type": "stream",
     "text": [
      "Epoch 106\n",
      "Generator loss 5.98 Discriminator loss 0.58\n",
      "Time take for epoch 107 is 107.4992504119873 sec\n",
      "\n"
     ]
    },
    {
     "name": "stderr",
     "output_type": "stream",
     "text": [
      "Clipping input data to the valid range for imshow with RGB data ([0..1] for floats or [0..255] for integers).\n"
     ]
    },
    {
     "name": "stdout",
     "output_type": "stream",
     "text": [
      "Epoch 107\n",
      "Generator loss 4.26 Discriminator loss 1.66\n",
      "Time take for epoch 108 is 107.61266493797302 sec\n",
      "\n"
     ]
    },
    {
     "name": "stderr",
     "output_type": "stream",
     "text": [
      "Clipping input data to the valid range for imshow with RGB data ([0..1] for floats or [0..255] for integers).\n"
     ]
    },
    {
     "name": "stdout",
     "output_type": "stream",
     "text": [
      "Epoch 108\n",
      "Generator loss 5.78 Discriminator loss 0.68\n",
      "Time take for epoch 109 is 107.6289234161377 sec\n",
      "\n"
     ]
    },
    {
     "name": "stderr",
     "output_type": "stream",
     "text": [
      "Clipping input data to the valid range for imshow with RGB data ([0..1] for floats or [0..255] for integers).\n"
     ]
    },
    {
     "name": "stdout",
     "output_type": "stream",
     "text": [
      "Epoch 109\n",
      "Generator loss 3.33 Discriminator loss 1.09\n",
      "Time take for epoch 110 is 107.5348732471466 sec\n",
      "\n"
     ]
    },
    {
     "name": "stderr",
     "output_type": "stream",
     "text": [
      "Clipping input data to the valid range for imshow with RGB data ([0..1] for floats or [0..255] for integers).\n"
     ]
    },
    {
     "name": "stdout",
     "output_type": "stream",
     "text": [
      "Epoch 110\n",
      "Generator loss 5.23 Discriminator loss 0.46\n",
      "Time take for epoch 111 is 107.89954900741577 sec\n",
      "\n"
     ]
    },
    {
     "name": "stderr",
     "output_type": "stream",
     "text": [
      "Clipping input data to the valid range for imshow with RGB data ([0..1] for floats or [0..255] for integers).\n"
     ]
    },
    {
     "name": "stdout",
     "output_type": "stream",
     "text": [
      "Epoch 111\n",
      "Generator loss 3.48 Discriminator loss 1.18\n",
      "Time take for epoch 112 is 107.73928642272949 sec\n",
      "\n"
     ]
    },
    {
     "name": "stderr",
     "output_type": "stream",
     "text": [
      "Clipping input data to the valid range for imshow with RGB data ([0..1] for floats or [0..255] for integers).\n"
     ]
    },
    {
     "name": "stdout",
     "output_type": "stream",
     "text": [
      "Epoch 112\n",
      "Generator loss 6.05 Discriminator loss 1.59\n",
      "Time take for epoch 113 is 107.89151644706726 sec\n",
      "\n"
     ]
    },
    {
     "name": "stderr",
     "output_type": "stream",
     "text": [
      "Clipping input data to the valid range for imshow with RGB data ([0..1] for floats or [0..255] for integers).\n"
     ]
    },
    {
     "name": "stdout",
     "output_type": "stream",
     "text": [
      "Epoch 113\n",
      "Generator loss 3.47 Discriminator loss 1.76\n",
      "Time take for epoch 114 is 107.74461531639099 sec\n",
      "\n"
     ]
    },
    {
     "name": "stderr",
     "output_type": "stream",
     "text": [
      "Clipping input data to the valid range for imshow with RGB data ([0..1] for floats or [0..255] for integers).\n"
     ]
    },
    {
     "name": "stdout",
     "output_type": "stream",
     "text": [
      "Epoch 114\n",
      "Generator loss 9.70 Discriminator loss 0.07\n",
      "Time take for epoch 115 is 107.53558468818665 sec\n",
      "\n"
     ]
    },
    {
     "name": "stderr",
     "output_type": "stream",
     "text": [
      "Clipping input data to the valid range for imshow with RGB data ([0..1] for floats or [0..255] for integers).\n"
     ]
    },
    {
     "name": "stdout",
     "output_type": "stream",
     "text": [
      "Epoch 115\n",
      "Generator loss 4.41 Discriminator loss 1.96\n",
      "Time take for epoch 116 is 107.60795783996582 sec\n",
      "\n"
     ]
    },
    {
     "name": "stderr",
     "output_type": "stream",
     "text": [
      "Clipping input data to the valid range for imshow with RGB data ([0..1] for floats or [0..255] for integers).\n"
     ]
    },
    {
     "name": "stdout",
     "output_type": "stream",
     "text": [
      "Epoch 116\n",
      "Generator loss 4.66 Discriminator loss 1.01\n",
      "Time take for epoch 117 is 107.7174243927002 sec\n",
      "\n"
     ]
    },
    {
     "name": "stderr",
     "output_type": "stream",
     "text": [
      "Clipping input data to the valid range for imshow with RGB data ([0..1] for floats or [0..255] for integers).\n"
     ]
    },
    {
     "name": "stdout",
     "output_type": "stream",
     "text": [
      "Epoch 117\n",
      "Generator loss 6.07 Discriminator loss 1.26\n",
      "Time take for epoch 118 is 107.70011806488037 sec\n",
      "\n"
     ]
    },
    {
     "name": "stderr",
     "output_type": "stream",
     "text": [
      "Clipping input data to the valid range for imshow with RGB data ([0..1] for floats or [0..255] for integers).\n"
     ]
    },
    {
     "name": "stdout",
     "output_type": "stream",
     "text": [
      "Epoch 118\n",
      "Generator loss 5.50 Discriminator loss 0.86\n",
      "Time take for epoch 119 is 107.6186888217926 sec\n",
      "\n"
     ]
    },
    {
     "name": "stderr",
     "output_type": "stream",
     "text": [
      "Clipping input data to the valid range for imshow with RGB data ([0..1] for floats or [0..255] for integers).\n"
     ]
    },
    {
     "name": "stdout",
     "output_type": "stream",
     "text": [
      "Epoch 119\n",
      "Generator loss 6.30 Discriminator loss 1.50\n",
      "Time take for epoch 120 is 107.6285297870636 sec\n",
      "\n"
     ]
    },
    {
     "name": "stderr",
     "output_type": "stream",
     "text": [
      "Clipping input data to the valid range for imshow with RGB data ([0..1] for floats or [0..255] for integers).\n"
     ]
    },
    {
     "name": "stdout",
     "output_type": "stream",
     "text": [
      "Epoch 120\n",
      "Generator loss 7.69 Discriminator loss 0.16\n",
      "Time take for epoch 121 is 107.6664547920227 sec\n",
      "\n"
     ]
    },
    {
     "name": "stderr",
     "output_type": "stream",
     "text": [
      "Clipping input data to the valid range for imshow with RGB data ([0..1] for floats or [0..255] for integers).\n"
     ]
    },
    {
     "name": "stdout",
     "output_type": "stream",
     "text": [
      "Epoch 121\n",
      "Generator loss 7.06 Discriminator loss 1.44\n",
      "Time take for epoch 122 is 107.39836192131042 sec\n",
      "\n"
     ]
    },
    {
     "name": "stderr",
     "output_type": "stream",
     "text": [
      "Clipping input data to the valid range for imshow with RGB data ([0..1] for floats or [0..255] for integers).\n"
     ]
    },
    {
     "name": "stdout",
     "output_type": "stream",
     "text": [
      "Epoch 122\n",
      "Generator loss 8.02 Discriminator loss 0.18\n",
      "Time take for epoch 123 is 107.52727317810059 sec\n",
      "\n"
     ]
    },
    {
     "name": "stderr",
     "output_type": "stream",
     "text": [
      "Clipping input data to the valid range for imshow with RGB data ([0..1] for floats or [0..255] for integers).\n"
     ]
    },
    {
     "name": "stdout",
     "output_type": "stream",
     "text": [
      "Epoch 123\n",
      "Generator loss 4.29 Discriminator loss 0.89\n",
      "Time take for epoch 124 is 107.73973035812378 sec\n",
      "\n"
     ]
    },
    {
     "name": "stderr",
     "output_type": "stream",
     "text": [
      "Clipping input data to the valid range for imshow with RGB data ([0..1] for floats or [0..255] for integers).\n"
     ]
    },
    {
     "name": "stdout",
     "output_type": "stream",
     "text": [
      "Epoch 124\n",
      "Generator loss 10.12 Discriminator loss 0.39\n",
      "Time take for epoch 125 is 107.75666165351868 sec\n",
      "\n"
     ]
    },
    {
     "name": "stderr",
     "output_type": "stream",
     "text": [
      "Clipping input data to the valid range for imshow with RGB data ([0..1] for floats or [0..255] for integers).\n"
     ]
    },
    {
     "name": "stdout",
     "output_type": "stream",
     "text": [
      "Epoch 125\n",
      "Generator loss 3.43 Discriminator loss 1.09\n",
      "Time take for epoch 126 is 107.7883608341217 sec\n",
      "\n"
     ]
    },
    {
     "name": "stderr",
     "output_type": "stream",
     "text": [
      "Clipping input data to the valid range for imshow with RGB data ([0..1] for floats or [0..255] for integers).\n"
     ]
    },
    {
     "name": "stdout",
     "output_type": "stream",
     "text": [
      "Epoch 126\n",
      "Generator loss 6.11 Discriminator loss 0.52\n",
      "Time take for epoch 127 is 107.49150729179382 sec\n",
      "\n"
     ]
    },
    {
     "name": "stderr",
     "output_type": "stream",
     "text": [
      "Clipping input data to the valid range for imshow with RGB data ([0..1] for floats or [0..255] for integers).\n"
     ]
    },
    {
     "name": "stdout",
     "output_type": "stream",
     "text": [
      "Epoch 127\n",
      "Generator loss 4.17 Discriminator loss 0.98\n",
      "Time take for epoch 128 is 107.57817268371582 sec\n",
      "\n"
     ]
    },
    {
     "name": "stderr",
     "output_type": "stream",
     "text": [
      "Clipping input data to the valid range for imshow with RGB data ([0..1] for floats or [0..255] for integers).\n"
     ]
    },
    {
     "name": "stdout",
     "output_type": "stream",
     "text": [
      "Epoch 128\n",
      "Generator loss 9.75 Discriminator loss 0.35\n",
      "Time take for epoch 129 is 108.41040515899658 sec\n",
      "\n"
     ]
    },
    {
     "name": "stderr",
     "output_type": "stream",
     "text": [
      "Clipping input data to the valid range for imshow with RGB data ([0..1] for floats or [0..255] for integers).\n"
     ]
    },
    {
     "name": "stdout",
     "output_type": "stream",
     "text": [
      "Epoch 129\n",
      "Generator loss 5.10 Discriminator loss 0.70\n",
      "Time take for epoch 130 is 107.73987245559692 sec\n",
      "\n"
     ]
    },
    {
     "name": "stderr",
     "output_type": "stream",
     "text": [
      "Clipping input data to the valid range for imshow with RGB data ([0..1] for floats or [0..255] for integers).\n"
     ]
    },
    {
     "name": "stdout",
     "output_type": "stream",
     "text": [
      "Epoch 130\n",
      "Generator loss 4.49 Discriminator loss 0.48\n",
      "Time take for epoch 131 is 107.7024712562561 sec\n",
      "\n"
     ]
    },
    {
     "name": "stderr",
     "output_type": "stream",
     "text": [
      "Clipping input data to the valid range for imshow with RGB data ([0..1] for floats or [0..255] for integers).\n"
     ]
    },
    {
     "name": "stdout",
     "output_type": "stream",
     "text": [
      "Epoch 131\n",
      "Generator loss 7.00 Discriminator loss 0.22\n",
      "Time take for epoch 132 is 107.58543229103088 sec\n",
      "\n"
     ]
    },
    {
     "name": "stderr",
     "output_type": "stream",
     "text": [
      "Clipping input data to the valid range for imshow with RGB data ([0..1] for floats or [0..255] for integers).\n"
     ]
    },
    {
     "name": "stdout",
     "output_type": "stream",
     "text": [
      "Epoch 132\n",
      "Generator loss 7.77 Discriminator loss 0.32\n",
      "Time take for epoch 133 is 107.81293296813965 sec\n",
      "\n"
     ]
    },
    {
     "name": "stderr",
     "output_type": "stream",
     "text": [
      "Clipping input data to the valid range for imshow with RGB data ([0..1] for floats or [0..255] for integers).\n"
     ]
    },
    {
     "name": "stdout",
     "output_type": "stream",
     "text": [
      "Epoch 133\n",
      "Generator loss 11.24 Discriminator loss 2.30\n",
      "Time take for epoch 134 is 107.54372954368591 sec\n",
      "\n"
     ]
    },
    {
     "name": "stderr",
     "output_type": "stream",
     "text": [
      "Clipping input data to the valid range for imshow with RGB data ([0..1] for floats or [0..255] for integers).\n"
     ]
    },
    {
     "name": "stdout",
     "output_type": "stream",
     "text": [
      "Epoch 134\n",
      "Generator loss 4.72 Discriminator loss 0.97\n",
      "Time take for epoch 135 is 107.79843950271606 sec\n",
      "\n"
     ]
    },
    {
     "name": "stderr",
     "output_type": "stream",
     "text": [
      "Clipping input data to the valid range for imshow with RGB data ([0..1] for floats or [0..255] for integers).\n"
     ]
    },
    {
     "name": "stdout",
     "output_type": "stream",
     "text": [
      "Epoch 135\n",
      "Generator loss 3.92 Discriminator loss 0.83\n",
      "Time take for epoch 136 is 107.58677554130554 sec\n",
      "\n"
     ]
    },
    {
     "name": "stderr",
     "output_type": "stream",
     "text": [
      "Clipping input data to the valid range for imshow with RGB data ([0..1] for floats or [0..255] for integers).\n"
     ]
    },
    {
     "name": "stdout",
     "output_type": "stream",
     "text": [
      "Epoch 136\n",
      "Generator loss 5.39 Discriminator loss 1.03\n",
      "Time take for epoch 137 is 107.89057540893555 sec\n",
      "\n"
     ]
    },
    {
     "name": "stderr",
     "output_type": "stream",
     "text": [
      "Clipping input data to the valid range for imshow with RGB data ([0..1] for floats or [0..255] for integers).\n"
     ]
    },
    {
     "name": "stdout",
     "output_type": "stream",
     "text": [
      "Epoch 137\n",
      "Generator loss 4.01 Discriminator loss 2.03\n",
      "Time take for epoch 138 is 108.01109552383423 sec\n",
      "\n"
     ]
    },
    {
     "name": "stderr",
     "output_type": "stream",
     "text": [
      "Clipping input data to the valid range for imshow with RGB data ([0..1] for floats or [0..255] for integers).\n"
     ]
    },
    {
     "name": "stdout",
     "output_type": "stream",
     "text": [
      "Epoch 138\n",
      "Generator loss 6.62 Discriminator loss 0.52\n",
      "Time take for epoch 139 is 107.78877806663513 sec\n",
      "\n"
     ]
    },
    {
     "name": "stderr",
     "output_type": "stream",
     "text": [
      "Clipping input data to the valid range for imshow with RGB data ([0..1] for floats or [0..255] for integers).\n"
     ]
    },
    {
     "name": "stdout",
     "output_type": "stream",
     "text": [
      "Epoch 139\n",
      "Generator loss 3.67 Discriminator loss 1.39\n",
      "Time take for epoch 140 is 107.78831458091736 sec\n",
      "\n"
     ]
    },
    {
     "name": "stderr",
     "output_type": "stream",
     "text": [
      "Clipping input data to the valid range for imshow with RGB data ([0..1] for floats or [0..255] for integers).\n"
     ]
    },
    {
     "name": "stdout",
     "output_type": "stream",
     "text": [
      "Epoch 140\n",
      "Generator loss 7.63 Discriminator loss 0.98\n",
      "Time take for epoch 141 is 107.5641815662384 sec\n",
      "\n"
     ]
    },
    {
     "name": "stderr",
     "output_type": "stream",
     "text": [
      "Clipping input data to the valid range for imshow with RGB data ([0..1] for floats or [0..255] for integers).\n"
     ]
    },
    {
     "name": "stdout",
     "output_type": "stream",
     "text": [
      "Epoch 141\n",
      "Generator loss 7.57 Discriminator loss 0.14\n",
      "Time take for epoch 142 is 107.74721240997314 sec\n",
      "\n"
     ]
    },
    {
     "name": "stderr",
     "output_type": "stream",
     "text": [
      "Clipping input data to the valid range for imshow with RGB data ([0..1] for floats or [0..255] for integers).\n"
     ]
    },
    {
     "name": "stdout",
     "output_type": "stream",
     "text": [
      "Epoch 142\n",
      "Generator loss 8.74 Discriminator loss 0.81\n",
      "Time take for epoch 143 is 107.55557489395142 sec\n",
      "\n"
     ]
    },
    {
     "name": "stderr",
     "output_type": "stream",
     "text": [
      "Clipping input data to the valid range for imshow with RGB data ([0..1] for floats or [0..255] for integers).\n"
     ]
    },
    {
     "name": "stdout",
     "output_type": "stream",
     "text": [
      "Epoch 143\n",
      "Generator loss 8.13 Discriminator loss 0.05\n",
      "Time take for epoch 144 is 107.56517934799194 sec\n",
      "\n"
     ]
    },
    {
     "name": "stderr",
     "output_type": "stream",
     "text": [
      "Clipping input data to the valid range for imshow with RGB data ([0..1] for floats or [0..255] for integers).\n"
     ]
    },
    {
     "name": "stdout",
     "output_type": "stream",
     "text": [
      "Epoch 144\n",
      "Generator loss 7.04 Discriminator loss 1.60\n",
      "Time take for epoch 145 is 107.55945587158203 sec\n",
      "\n"
     ]
    },
    {
     "name": "stderr",
     "output_type": "stream",
     "text": [
      "Clipping input data to the valid range for imshow with RGB data ([0..1] for floats or [0..255] for integers).\n"
     ]
    },
    {
     "name": "stdout",
     "output_type": "stream",
     "text": [
      "Epoch 145\n",
      "Generator loss 4.16 Discriminator loss 1.36\n",
      "Time take for epoch 146 is 107.70246171951294 sec\n",
      "\n"
     ]
    },
    {
     "name": "stderr",
     "output_type": "stream",
     "text": [
      "Clipping input data to the valid range for imshow with RGB data ([0..1] for floats or [0..255] for integers).\n"
     ]
    },
    {
     "name": "stdout",
     "output_type": "stream",
     "text": [
      "Epoch 146\n",
      "Generator loss 4.22 Discriminator loss 1.08\n",
      "Time take for epoch 147 is 107.60040879249573 sec\n",
      "\n"
     ]
    },
    {
     "name": "stderr",
     "output_type": "stream",
     "text": [
      "Clipping input data to the valid range for imshow with RGB data ([0..1] for floats or [0..255] for integers).\n"
     ]
    },
    {
     "name": "stdout",
     "output_type": "stream",
     "text": [
      "Epoch 147\n",
      "Generator loss 6.14 Discriminator loss 0.39\n",
      "Time take for epoch 148 is 107.6889317035675 sec\n",
      "\n"
     ]
    },
    {
     "name": "stderr",
     "output_type": "stream",
     "text": [
      "Clipping input data to the valid range for imshow with RGB data ([0..1] for floats or [0..255] for integers).\n"
     ]
    },
    {
     "name": "stdout",
     "output_type": "stream",
     "text": [
      "Epoch 148\n",
      "Generator loss 7.82 Discriminator loss 0.28\n",
      "Time take for epoch 149 is 107.56115078926086 sec\n",
      "\n"
     ]
    },
    {
     "name": "stderr",
     "output_type": "stream",
     "text": [
      "Clipping input data to the valid range for imshow with RGB data ([0..1] for floats or [0..255] for integers).\n"
     ]
    },
    {
     "name": "stdout",
     "output_type": "stream",
     "text": [
      "Epoch 149\n",
      "Generator loss 4.84 Discriminator loss 0.25\n",
      "Time take for epoch 150 is 107.56138873100281 sec\n",
      "\n"
     ]
    },
    {
     "name": "stderr",
     "output_type": "stream",
     "text": [
      "Clipping input data to the valid range for imshow with RGB data ([0..1] for floats or [0..255] for integers).\n"
     ]
    },
    {
     "name": "stdout",
     "output_type": "stream",
     "text": [
      "Epoch 150\n",
      "Generator loss 7.43 Discriminator loss 1.48\n",
      "Time take for epoch 151 is 107.47042489051819 sec\n",
      "\n"
     ]
    },
    {
     "name": "stderr",
     "output_type": "stream",
     "text": [
      "Clipping input data to the valid range for imshow with RGB data ([0..1] for floats or [0..255] for integers).\n"
     ]
    },
    {
     "name": "stdout",
     "output_type": "stream",
     "text": [
      "Epoch 151\n",
      "Generator loss 4.66 Discriminator loss 0.56\n",
      "Time take for epoch 152 is 107.67280960083008 sec\n",
      "\n"
     ]
    },
    {
     "name": "stderr",
     "output_type": "stream",
     "text": [
      "Clipping input data to the valid range for imshow with RGB data ([0..1] for floats or [0..255] for integers).\n"
     ]
    },
    {
     "name": "stdout",
     "output_type": "stream",
     "text": [
      "Epoch 152\n",
      "Generator loss 2.67 Discriminator loss 1.97\n",
      "Time take for epoch 153 is 107.57271599769592 sec\n",
      "\n"
     ]
    },
    {
     "name": "stderr",
     "output_type": "stream",
     "text": [
      "Clipping input data to the valid range for imshow with RGB data ([0..1] for floats or [0..255] for integers).\n"
     ]
    },
    {
     "name": "stdout",
     "output_type": "stream",
     "text": [
      "Epoch 153\n",
      "Generator loss 8.18 Discriminator loss 0.13\n",
      "Time take for epoch 154 is 107.5665647983551 sec\n",
      "\n"
     ]
    },
    {
     "name": "stderr",
     "output_type": "stream",
     "text": [
      "Clipping input data to the valid range for imshow with RGB data ([0..1] for floats or [0..255] for integers).\n"
     ]
    },
    {
     "name": "stdout",
     "output_type": "stream",
     "text": [
      "Epoch 154\n",
      "Generator loss 6.72 Discriminator loss 0.11\n",
      "Time take for epoch 155 is 107.39470100402832 sec\n",
      "\n"
     ]
    },
    {
     "name": "stderr",
     "output_type": "stream",
     "text": [
      "Clipping input data to the valid range for imshow with RGB data ([0..1] for floats or [0..255] for integers).\n"
     ]
    },
    {
     "name": "stdout",
     "output_type": "stream",
     "text": [
      "Epoch 155\n",
      "Generator loss 4.51 Discriminator loss 0.92\n",
      "Time take for epoch 156 is 107.57571816444397 sec\n",
      "\n"
     ]
    },
    {
     "name": "stderr",
     "output_type": "stream",
     "text": [
      "Clipping input data to the valid range for imshow with RGB data ([0..1] for floats or [0..255] for integers).\n"
     ]
    },
    {
     "name": "stdout",
     "output_type": "stream",
     "text": [
      "Epoch 156\n",
      "Generator loss 5.50 Discriminator loss 0.22\n",
      "Time take for epoch 157 is 107.60949182510376 sec\n",
      "\n"
     ]
    },
    {
     "name": "stderr",
     "output_type": "stream",
     "text": [
      "Clipping input data to the valid range for imshow with RGB data ([0..1] for floats or [0..255] for integers).\n"
     ]
    },
    {
     "name": "stdout",
     "output_type": "stream",
     "text": [
      "Epoch 157\n",
      "Generator loss 9.38 Discriminator loss 2.17\n",
      "Time take for epoch 158 is 107.59081435203552 sec\n",
      "\n"
     ]
    },
    {
     "name": "stderr",
     "output_type": "stream",
     "text": [
      "Clipping input data to the valid range for imshow with RGB data ([0..1] for floats or [0..255] for integers).\n"
     ]
    },
    {
     "name": "stdout",
     "output_type": "stream",
     "text": [
      "Epoch 158\n",
      "Generator loss 5.17 Discriminator loss 0.30\n",
      "Time take for epoch 159 is 107.63757729530334 sec\n",
      "\n"
     ]
    },
    {
     "name": "stderr",
     "output_type": "stream",
     "text": [
      "Clipping input data to the valid range for imshow with RGB data ([0..1] for floats or [0..255] for integers).\n"
     ]
    },
    {
     "name": "stdout",
     "output_type": "stream",
     "text": [
      "Epoch 159\n",
      "Generator loss 7.89 Discriminator loss 0.21\n",
      "Time take for epoch 160 is 107.496994972229 sec\n",
      "\n"
     ]
    },
    {
     "name": "stderr",
     "output_type": "stream",
     "text": [
      "Clipping input data to the valid range for imshow with RGB data ([0..1] for floats or [0..255] for integers).\n"
     ]
    },
    {
     "name": "stdout",
     "output_type": "stream",
     "text": [
      "Epoch 160\n",
      "Generator loss 3.73 Discriminator loss 0.86\n",
      "Time take for epoch 161 is 107.68853282928467 sec\n",
      "\n"
     ]
    },
    {
     "name": "stderr",
     "output_type": "stream",
     "text": [
      "Clipping input data to the valid range for imshow with RGB data ([0..1] for floats or [0..255] for integers).\n"
     ]
    },
    {
     "name": "stdout",
     "output_type": "stream",
     "text": [
      "Epoch 161\n",
      "Generator loss 8.14 Discriminator loss 0.06\n",
      "Time take for epoch 162 is 107.56734609603882 sec\n",
      "\n"
     ]
    },
    {
     "name": "stderr",
     "output_type": "stream",
     "text": [
      "Clipping input data to the valid range for imshow with RGB data ([0..1] for floats or [0..255] for integers).\n"
     ]
    },
    {
     "name": "stdout",
     "output_type": "stream",
     "text": [
      "Epoch 162\n",
      "Generator loss 4.52 Discriminator loss 1.23\n",
      "Time take for epoch 163 is 107.61734247207642 sec\n",
      "\n"
     ]
    },
    {
     "name": "stderr",
     "output_type": "stream",
     "text": [
      "Clipping input data to the valid range for imshow with RGB data ([0..1] for floats or [0..255] for integers).\n"
     ]
    },
    {
     "name": "stdout",
     "output_type": "stream",
     "text": [
      "Epoch 163\n",
      "Generator loss 5.37 Discriminator loss 0.89\n",
      "Time take for epoch 164 is 108.84821796417236 sec\n",
      "\n"
     ]
    },
    {
     "name": "stderr",
     "output_type": "stream",
     "text": [
      "Clipping input data to the valid range for imshow with RGB data ([0..1] for floats or [0..255] for integers).\n"
     ]
    },
    {
     "name": "stdout",
     "output_type": "stream",
     "text": [
      "Epoch 164\n",
      "Generator loss 3.92 Discriminator loss 1.28\n",
      "Time take for epoch 165 is 107.72311854362488 sec\n",
      "\n"
     ]
    },
    {
     "name": "stderr",
     "output_type": "stream",
     "text": [
      "Clipping input data to the valid range for imshow with RGB data ([0..1] for floats or [0..255] for integers).\n"
     ]
    },
    {
     "name": "stdout",
     "output_type": "stream",
     "text": [
      "Epoch 165\n",
      "Generator loss 4.08 Discriminator loss 1.38\n",
      "Time take for epoch 166 is 107.54232335090637 sec\n",
      "\n"
     ]
    },
    {
     "name": "stderr",
     "output_type": "stream",
     "text": [
      "Clipping input data to the valid range for imshow with RGB data ([0..1] for floats or [0..255] for integers).\n"
     ]
    },
    {
     "name": "stdout",
     "output_type": "stream",
     "text": [
      "Epoch 166\n",
      "Generator loss 7.25 Discriminator loss 0.25\n",
      "Time take for epoch 167 is 107.58298540115356 sec\n",
      "\n"
     ]
    },
    {
     "name": "stderr",
     "output_type": "stream",
     "text": [
      "Clipping input data to the valid range for imshow with RGB data ([0..1] for floats or [0..255] for integers).\n"
     ]
    },
    {
     "name": "stdout",
     "output_type": "stream",
     "text": [
      "Epoch 167\n",
      "Generator loss 4.58 Discriminator loss 1.02\n",
      "Time take for epoch 168 is 107.51855731010437 sec\n",
      "\n"
     ]
    },
    {
     "name": "stderr",
     "output_type": "stream",
     "text": [
      "Clipping input data to the valid range for imshow with RGB data ([0..1] for floats or [0..255] for integers).\n"
     ]
    },
    {
     "name": "stdout",
     "output_type": "stream",
     "text": [
      "Epoch 168\n",
      "Generator loss 6.03 Discriminator loss 2.27\n",
      "Time take for epoch 169 is 107.5397253036499 sec\n",
      "\n"
     ]
    },
    {
     "name": "stderr",
     "output_type": "stream",
     "text": [
      "Clipping input data to the valid range for imshow with RGB data ([0..1] for floats or [0..255] for integers).\n"
     ]
    },
    {
     "name": "stdout",
     "output_type": "stream",
     "text": [
      "Epoch 169\n",
      "Generator loss 6.43 Discriminator loss 0.12\n",
      "Time take for epoch 170 is 107.51281094551086 sec\n",
      "\n"
     ]
    },
    {
     "name": "stderr",
     "output_type": "stream",
     "text": [
      "Clipping input data to the valid range for imshow with RGB data ([0..1] for floats or [0..255] for integers).\n"
     ]
    },
    {
     "name": "stdout",
     "output_type": "stream",
     "text": [
      "Epoch 170\n",
      "Generator loss 5.00 Discriminator loss 1.42\n",
      "Time take for epoch 171 is 107.5309727191925 sec\n",
      "\n"
     ]
    },
    {
     "name": "stderr",
     "output_type": "stream",
     "text": [
      "Clipping input data to the valid range for imshow with RGB data ([0..1] for floats or [0..255] for integers).\n"
     ]
    },
    {
     "name": "stdout",
     "output_type": "stream",
     "text": [
      "Epoch 171\n",
      "Generator loss 9.55 Discriminator loss 0.08\n",
      "Time take for epoch 172 is 107.38688135147095 sec\n",
      "\n"
     ]
    },
    {
     "name": "stderr",
     "output_type": "stream",
     "text": [
      "Clipping input data to the valid range for imshow with RGB data ([0..1] for floats or [0..255] for integers).\n"
     ]
    },
    {
     "name": "stdout",
     "output_type": "stream",
     "text": [
      "Epoch 172\n",
      "Generator loss 5.73 Discriminator loss 0.72\n",
      "Time take for epoch 173 is 107.55318593978882 sec\n",
      "\n"
     ]
    },
    {
     "name": "stderr",
     "output_type": "stream",
     "text": [
      "Clipping input data to the valid range for imshow with RGB data ([0..1] for floats or [0..255] for integers).\n"
     ]
    },
    {
     "name": "stdout",
     "output_type": "stream",
     "text": [
      "Epoch 173\n",
      "Generator loss 6.18 Discriminator loss 1.07\n",
      "Time take for epoch 174 is 107.35450267791748 sec\n",
      "\n"
     ]
    },
    {
     "name": "stderr",
     "output_type": "stream",
     "text": [
      "Clipping input data to the valid range for imshow with RGB data ([0..1] for floats or [0..255] for integers).\n"
     ]
    },
    {
     "name": "stdout",
     "output_type": "stream",
     "text": [
      "Epoch 174\n",
      "Generator loss 4.80 Discriminator loss 1.04\n",
      "Time take for epoch 175 is 107.4111557006836 sec\n",
      "\n"
     ]
    },
    {
     "name": "stderr",
     "output_type": "stream",
     "text": [
      "Clipping input data to the valid range for imshow with RGB data ([0..1] for floats or [0..255] for integers).\n"
     ]
    },
    {
     "name": "stdout",
     "output_type": "stream",
     "text": [
      "Epoch 175\n",
      "Generator loss 4.75 Discriminator loss 1.05\n",
      "Time take for epoch 176 is 107.55008816719055 sec\n",
      "\n"
     ]
    },
    {
     "name": "stderr",
     "output_type": "stream",
     "text": [
      "Clipping input data to the valid range for imshow with RGB data ([0..1] for floats or [0..255] for integers).\n"
     ]
    },
    {
     "name": "stdout",
     "output_type": "stream",
     "text": [
      "Epoch 176\n",
      "Generator loss 6.33 Discriminator loss 0.51\n",
      "Time take for epoch 177 is 107.5368902683258 sec\n",
      "\n"
     ]
    },
    {
     "name": "stderr",
     "output_type": "stream",
     "text": [
      "Clipping input data to the valid range for imshow with RGB data ([0..1] for floats or [0..255] for integers).\n"
     ]
    },
    {
     "name": "stdout",
     "output_type": "stream",
     "text": [
      "Epoch 177\n",
      "Generator loss 4.22 Discriminator loss 1.73\n",
      "Time take for epoch 178 is 107.37256193161011 sec\n",
      "\n"
     ]
    },
    {
     "name": "stderr",
     "output_type": "stream",
     "text": [
      "Clipping input data to the valid range for imshow with RGB data ([0..1] for floats or [0..255] for integers).\n"
     ]
    },
    {
     "name": "stdout",
     "output_type": "stream",
     "text": [
      "Epoch 178\n",
      "Generator loss 6.57 Discriminator loss 0.61\n",
      "Time take for epoch 179 is 107.63663411140442 sec\n",
      "\n"
     ]
    },
    {
     "name": "stderr",
     "output_type": "stream",
     "text": [
      "Clipping input data to the valid range for imshow with RGB data ([0..1] for floats or [0..255] for integers).\n"
     ]
    },
    {
     "name": "stdout",
     "output_type": "stream",
     "text": [
      "Epoch 179\n",
      "Generator loss 4.96 Discriminator loss 0.56\n",
      "Time take for epoch 180 is 107.549156665802 sec\n",
      "\n"
     ]
    },
    {
     "name": "stderr",
     "output_type": "stream",
     "text": [
      "Clipping input data to the valid range for imshow with RGB data ([0..1] for floats or [0..255] for integers).\n"
     ]
    },
    {
     "name": "stdout",
     "output_type": "stream",
     "text": [
      "Epoch 180\n",
      "Generator loss 3.56 Discriminator loss 3.85\n",
      "Time take for epoch 181 is 107.565021276474 sec\n",
      "\n"
     ]
    },
    {
     "name": "stderr",
     "output_type": "stream",
     "text": [
      "Clipping input data to the valid range for imshow with RGB data ([0..1] for floats or [0..255] for integers).\n"
     ]
    },
    {
     "name": "stdout",
     "output_type": "stream",
     "text": [
      "Epoch 181\n",
      "Generator loss 4.00 Discriminator loss 1.44\n",
      "Time take for epoch 182 is 107.57541584968567 sec\n",
      "\n"
     ]
    },
    {
     "name": "stderr",
     "output_type": "stream",
     "text": [
      "Clipping input data to the valid range for imshow with RGB data ([0..1] for floats or [0..255] for integers).\n"
     ]
    },
    {
     "name": "stdout",
     "output_type": "stream",
     "text": [
      "Epoch 182\n",
      "Generator loss 7.10 Discriminator loss 0.66\n",
      "Time take for epoch 183 is 107.55076241493225 sec\n",
      "\n"
     ]
    },
    {
     "name": "stderr",
     "output_type": "stream",
     "text": [
      "Clipping input data to the valid range for imshow with RGB data ([0..1] for floats or [0..255] for integers).\n"
     ]
    },
    {
     "name": "stdout",
     "output_type": "stream",
     "text": [
      "Epoch 183\n",
      "Generator loss 3.68 Discriminator loss 1.08\n",
      "Time take for epoch 184 is 107.61081314086914 sec\n",
      "\n"
     ]
    },
    {
     "name": "stderr",
     "output_type": "stream",
     "text": [
      "Clipping input data to the valid range for imshow with RGB data ([0..1] for floats or [0..255] for integers).\n"
     ]
    },
    {
     "name": "stdout",
     "output_type": "stream",
     "text": [
      "Epoch 184\n",
      "Generator loss 2.86 Discriminator loss 0.95\n",
      "Time take for epoch 185 is 107.5381760597229 sec\n",
      "\n"
     ]
    },
    {
     "name": "stderr",
     "output_type": "stream",
     "text": [
      "Clipping input data to the valid range for imshow with RGB data ([0..1] for floats or [0..255] for integers).\n"
     ]
    },
    {
     "name": "stdout",
     "output_type": "stream",
     "text": [
      "Epoch 185\n",
      "Generator loss 4.33 Discriminator loss 1.06\n",
      "Time take for epoch 186 is 107.83285808563232 sec\n",
      "\n"
     ]
    },
    {
     "name": "stderr",
     "output_type": "stream",
     "text": [
      "Clipping input data to the valid range for imshow with RGB data ([0..1] for floats or [0..255] for integers).\n"
     ]
    },
    {
     "name": "stdout",
     "output_type": "stream",
     "text": [
      "Epoch 186\n",
      "Generator loss 3.95 Discriminator loss 0.27\n",
      "Time take for epoch 187 is 107.50863814353943 sec\n",
      "\n"
     ]
    },
    {
     "name": "stderr",
     "output_type": "stream",
     "text": [
      "Clipping input data to the valid range for imshow with RGB data ([0..1] for floats or [0..255] for integers).\n"
     ]
    },
    {
     "name": "stdout",
     "output_type": "stream",
     "text": [
      "Epoch 187\n",
      "Generator loss 6.04 Discriminator loss 1.23\n",
      "Time take for epoch 188 is 107.73217296600342 sec\n",
      "\n"
     ]
    },
    {
     "name": "stderr",
     "output_type": "stream",
     "text": [
      "Clipping input data to the valid range for imshow with RGB data ([0..1] for floats or [0..255] for integers).\n"
     ]
    },
    {
     "name": "stdout",
     "output_type": "stream",
     "text": [
      "Epoch 188\n",
      "Generator loss 8.69 Discriminator loss 0.31\n",
      "Time take for epoch 189 is 107.69219279289246 sec\n",
      "\n"
     ]
    },
    {
     "name": "stderr",
     "output_type": "stream",
     "text": [
      "Clipping input data to the valid range for imshow with RGB data ([0..1] for floats or [0..255] for integers).\n"
     ]
    },
    {
     "name": "stdout",
     "output_type": "stream",
     "text": [
      "Epoch 189\n",
      "Generator loss 9.86 Discriminator loss 0.06\n",
      "Time take for epoch 190 is 107.58166480064392 sec\n",
      "\n"
     ]
    },
    {
     "name": "stderr",
     "output_type": "stream",
     "text": [
      "Clipping input data to the valid range for imshow with RGB data ([0..1] for floats or [0..255] for integers).\n"
     ]
    },
    {
     "name": "stdout",
     "output_type": "stream",
     "text": [
      "Epoch 190\n",
      "Generator loss 6.14 Discriminator loss 1.10\n",
      "Time take for epoch 191 is 107.64171504974365 sec\n",
      "\n"
     ]
    },
    {
     "name": "stderr",
     "output_type": "stream",
     "text": [
      "Clipping input data to the valid range for imshow with RGB data ([0..1] for floats or [0..255] for integers).\n"
     ]
    },
    {
     "name": "stdout",
     "output_type": "stream",
     "text": [
      "Epoch 191\n",
      "Generator loss 9.36 Discriminator loss 0.05\n",
      "Time take for epoch 192 is 107.78398108482361 sec\n",
      "\n"
     ]
    },
    {
     "name": "stderr",
     "output_type": "stream",
     "text": [
      "Clipping input data to the valid range for imshow with RGB data ([0..1] for floats or [0..255] for integers).\n"
     ]
    },
    {
     "name": "stdout",
     "output_type": "stream",
     "text": [
      "Epoch 192\n",
      "Generator loss 5.82 Discriminator loss 0.63\n",
      "Time take for epoch 193 is 107.53269219398499 sec\n",
      "\n"
     ]
    },
    {
     "name": "stderr",
     "output_type": "stream",
     "text": [
      "Clipping input data to the valid range for imshow with RGB data ([0..1] for floats or [0..255] for integers).\n"
     ]
    },
    {
     "name": "stdout",
     "output_type": "stream",
     "text": [
      "Epoch 193\n",
      "Generator loss 3.78 Discriminator loss 0.98\n",
      "Time take for epoch 194 is 107.5868091583252 sec\n",
      "\n"
     ]
    },
    {
     "name": "stderr",
     "output_type": "stream",
     "text": [
      "Clipping input data to the valid range for imshow with RGB data ([0..1] for floats or [0..255] for integers).\n"
     ]
    },
    {
     "name": "stdout",
     "output_type": "stream",
     "text": [
      "Epoch 194\n",
      "Generator loss 6.09 Discriminator loss 0.34\n",
      "Time take for epoch 195 is 108.60387802124023 sec\n",
      "\n"
     ]
    },
    {
     "name": "stderr",
     "output_type": "stream",
     "text": [
      "Clipping input data to the valid range for imshow with RGB data ([0..1] for floats or [0..255] for integers).\n"
     ]
    },
    {
     "name": "stdout",
     "output_type": "stream",
     "text": [
      "Epoch 195\n",
      "Generator loss 3.79 Discriminator loss 1.10\n",
      "Time take for epoch 196 is 107.51055407524109 sec\n",
      "\n"
     ]
    },
    {
     "name": "stderr",
     "output_type": "stream",
     "text": [
      "Clipping input data to the valid range for imshow with RGB data ([0..1] for floats or [0..255] for integers).\n"
     ]
    },
    {
     "name": "stdout",
     "output_type": "stream",
     "text": [
      "Epoch 196\n",
      "Generator loss 6.91 Discriminator loss 0.37\n",
      "Time take for epoch 197 is 107.37752342224121 sec\n",
      "\n"
     ]
    },
    {
     "name": "stderr",
     "output_type": "stream",
     "text": [
      "Clipping input data to the valid range for imshow with RGB data ([0..1] for floats or [0..255] for integers).\n"
     ]
    },
    {
     "name": "stdout",
     "output_type": "stream",
     "text": [
      "Epoch 197\n",
      "Generator loss 4.52 Discriminator loss 1.08\n",
      "Time take for epoch 198 is 107.37356424331665 sec\n",
      "\n"
     ]
    },
    {
     "name": "stderr",
     "output_type": "stream",
     "text": [
      "Clipping input data to the valid range for imshow with RGB data ([0..1] for floats or [0..255] for integers).\n"
     ]
    },
    {
     "name": "stdout",
     "output_type": "stream",
     "text": [
      "Epoch 198\n",
      "Generator loss 8.71 Discriminator loss 0.15\n",
      "Time take for epoch 199 is 107.35867476463318 sec\n",
      "\n"
     ]
    },
    {
     "name": "stderr",
     "output_type": "stream",
     "text": [
      "Clipping input data to the valid range for imshow with RGB data ([0..1] for floats or [0..255] for integers).\n"
     ]
    },
    {
     "name": "stdout",
     "output_type": "stream",
     "text": [
      "Epoch 199\n",
      "Generator loss 5.09 Discriminator loss 1.03\n",
      "Time take for epoch 200 is 107.39119386672974 sec\n",
      "\n"
     ]
    }
   ],
   "source": [
    "fit(train_dataset, epochs, test_dataset)"
   ]
  },
  {
   "cell_type": "code",
   "execution_count": 40,
   "id": "ffb310fd",
   "metadata": {},
   "outputs": [
    {
     "name": "stdout",
     "output_type": "stream",
     "text": [
      "WARNING:tensorflow:Compiled the loaded model, but the compiled metrics have yet to be built. `model.compile_metrics` will be empty until you train or evaluate the model.\n"
     ]
    }
   ],
   "source": [
    "# Assuming you have your model defined as 'pix2pix_model' and it has been trained\n",
    "gen.save('pix2pix_model.h5')\n"
   ]
  },
  {
   "cell_type": "code",
   "execution_count": 122,
   "id": "d9c367c9",
   "metadata": {},
   "outputs": [
    {
     "name": "stdout",
     "output_type": "stream",
     "text": [
      "WARNING:tensorflow:No training configuration found in the save file, so the model was *not* compiled. Compile it manually.\n"
     ]
    }
   ],
   "source": [
    "from tensorflow.keras.models import load_model\n",
    "\n",
    "# Load the saved model\n",
    "loaded_model = load_model('pix2pix_model.h5')\n"
   ]
  },
  {
   "cell_type": "code",
   "execution_count": 126,
   "id": "9e5dba0b",
   "metadata": {},
   "outputs": [
    {
     "data": {
      "text/plain": [
       "tensorflow.python.data.ops.dataset_ops.BatchDataset"
      ]
     },
     "execution_count": 126,
     "metadata": {},
     "output_type": "execute_result"
    }
   ],
   "source": []
  }
 ],
 "metadata": {
  "kernelspec": {
   "display_name": "tf-gpu",
   "language": "python",
   "name": "python3"
  },
  "language_info": {
   "codemirror_mode": {
    "name": "ipython",
    "version": 3
   },
   "file_extension": ".py",
   "mimetype": "text/x-python",
   "name": "python",
   "nbconvert_exporter": "python",
   "pygments_lexer": "ipython3",
   "version": "3.8.20"
  }
 },
 "nbformat": 4,
 "nbformat_minor": 5
}
